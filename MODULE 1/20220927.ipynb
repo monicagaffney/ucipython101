{
 "cells": [
  {
   "cell_type": "code",
   "execution_count": 2,
   "id": "f629daa3",
   "metadata": {},
   "outputs": [
    {
     "data": {
      "text/plain": [
       "2"
      ]
     },
     "execution_count": 2,
     "metadata": {},
     "output_type": "execute_result"
    }
   ],
   "source": [
    "1+1"
   ]
  },
  {
   "cell_type": "code",
   "execution_count": 3,
   "id": "ca4fdfdd",
   "metadata": {},
   "outputs": [
    {
     "data": {
      "text/plain": [
       "4"
      ]
     },
     "execution_count": 3,
     "metadata": {},
     "output_type": "execute_result"
    }
   ],
   "source": [
    "2+2"
   ]
  },
  {
   "cell_type": "markdown",
   "id": "d0e88958",
   "metadata": {},
   "source": [
    "HELLO WORLD"
   ]
  },
  {
   "cell_type": "markdown",
   "id": "60d159eb",
   "metadata": {},
   "source": [
    "THIS IS MY FIRST NOTEBOOK!  "
   ]
  },
  {
   "cell_type": "markdown",
   "id": "5c6ad275",
   "metadata": {},
   "source": [
    "#THIS IS A SUBHEADING ☺"
   ]
  },
  {
   "cell_type": "markdown",
   "id": "57d9825e",
   "metadata": {},
   "source": [
    "###THIS IS ANOTHER SUBHEADING"
   ]
  },
  {
   "cell_type": "markdown",
   "id": "8a516924",
   "metadata": {},
   "source": [
    ">CALL OUT AN EQUATION"
   ]
  },
  {
   "cell_type": "markdown",
   "id": "10f63246",
   "metadata": {},
   "source": [
    "`THIS TILDA HIGHLIGHTS TEXT SO IT'S EASIER TO READ` -- JUST REMEMBER TO PUT A TILDA AT THE BEGINNING AND END!"
   ]
  }
 ],
 "metadata": {
  "kernelspec": {
   "display_name": "Python 3 (ipykernel)",
   "language": "python",
   "name": "python3"
  },
  "language_info": {
   "codemirror_mode": {
    "name": "ipython",
    "version": 3
   },
   "file_extension": ".py",
   "mimetype": "text/x-python",
   "name": "python",
   "nbconvert_exporter": "python",
   "pygments_lexer": "ipython3",
   "version": "3.9.12"
  }
 },
 "nbformat": 4,
 "nbformat_minor": 5
}
