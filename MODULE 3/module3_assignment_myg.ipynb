{
 "cells": [
  {
   "cell_type": "code",
   "execution_count": 7,
   "id": "a82e4dee",
   "metadata": {},
   "outputs": [
    {
     "name": "stdout",
     "output_type": "stream",
     "text": [
      "0\n",
      "1\n",
      "2\n",
      "3\n",
      "4\n",
      "5\n",
      "6\n",
      "7\n",
      "8\n",
      "9\n"
     ]
    }
   ],
   "source": [
    "#Problem 1 answer - Monica\n",
    "\n",
    "for num in range(10):\n",
    "    print(num)"
   ]
  },
  {
   "cell_type": "code",
   "execution_count": 8,
   "id": "76c91c32",
   "metadata": {},
   "outputs": [
    {
     "name": "stdout",
     "output_type": "stream",
     "text": [
      "0\n",
      "0\n",
      "1\n",
      "1\n",
      "2\n",
      "0\n",
      "3\n",
      "1\n",
      "4\n",
      "0\n",
      "5\n",
      "1\n",
      "6\n",
      "0\n",
      "7\n",
      "1\n",
      "8\n",
      "0\n",
      "9\n",
      "1\n"
     ]
    }
   ],
   "source": [
    "#problem 2 answer - Monica\n",
    "for num in range(10):\n",
    "    print(num)\n",
    "    print(num % 2)"
   ]
  },
  {
   "cell_type": "code",
   "execution_count": 42,
   "id": "759ae96f",
   "metadata": {},
   "outputs": [
    {
     "name": "stdout",
     "output_type": "stream",
     "text": [
      "109.8756733000781\n"
     ]
    }
   ],
   "source": [
    "#problem 3 answer - Monica\n",
    "\n",
    "my_var=2\n",
    "while my_var <= 100 :\n",
    "    my_var = my_var * 1.65\n",
    "\n",
    "print(my_var)\n"
   ]
  },
  {
   "cell_type": "code",
   "execution_count": 52,
   "id": "f566b04a",
   "metadata": {},
   "outputs": [
    {
     "name": "stdout",
     "output_type": "stream",
     "text": [
      "7\n"
     ]
    }
   ],
   "source": [
    "#problem 4 answer - Monica\n",
    "\n",
    "package_weight = 5.01\n",
    "if package_weight <= 5:\n",
    "    shipping_cost = 3\n",
    "elif package_weight <= 10:\n",
    "        shipping_cost = 7\n",
    "else: shipping_cost = 15\n",
    "print(shipping_cost)\n",
    "\n",
    "\n"
   ]
  },
  {
   "cell_type": "code",
   "execution_count": 6,
   "id": "9217edc3",
   "metadata": {},
   "outputs": [
    {
     "name": "stdout",
     "output_type": "stream",
     "text": [
      "no dog\n",
      "no dog\n",
      "no dog\n",
      "no dog\n",
      "no dog\n",
      "no dog\n",
      "name\n"
     ]
    }
   ],
   "source": [
    "#problem 5 \"answer\"  ?? 😢😢😢\n",
    "\n",
    "dog_1 = {'name' : 'Abby', 'age' : 20 , 'favorite_treat' : 'salmon'}\n",
    "dog_2 = {'name' : 'Abe', 'age' : 19 , 'favorite_treat' : 'salmon'}\n",
    "dog_3 = {'name' : 'Ace', 'age' : 18 , 'favorite_treat' : 'salmon'}\n",
    "dog_4 = {'name' : 'Akira', 'age' : 17 , 'favorite_treat' : 'salmon'}\n",
    "dog_5 = {'name' : 'Alba', 'age' : 16 , 'favorite_treat' : 'salmon'}\n",
    "dog_6 = {'name' : 'Albert', 'age' : 15 , 'favorite_treat' : 'salmon'}\n",
    "dog_7 = {'name' : 'Alessa', 'age' : 14 , 'favorite_treat' : 'salmon'}\n",
    "dogs_list = dog_1['name'], dog_2['name'],dog_3['name'],dog_4['name'],dog_5['name'],dog_6['name'],dog_7['name'],\n",
    "for name in dogs_list:\n",
    "    if name == 'Alessa':\n",
    "        print('name')\n",
    "    else:\n",
    "        print('no dog')\n",
    "\n",
    "\n",
    "\n"
   ]
  }
 ],
 "metadata": {
  "kernelspec": {
   "display_name": "Python 3 (ipykernel)",
   "language": "python",
   "name": "python3"
  },
  "language_info": {
   "codemirror_mode": {
    "name": "ipython",
    "version": 3
   },
   "file_extension": ".py",
   "mimetype": "text/x-python",
   "name": "python",
   "nbconvert_exporter": "python",
   "pygments_lexer": "ipython3",
   "version": "3.9.12"
  }
 },
 "nbformat": 4,
 "nbformat_minor": 5
}
