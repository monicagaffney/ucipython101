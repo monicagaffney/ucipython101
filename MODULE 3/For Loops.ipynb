{
 "cells": [
  {
   "cell_type": "markdown",
   "metadata": {},
   "source": [
    "# For Loops\n",
    "For loops are used to repeat a block of code a certain number of times. Let's see some examples below."
   ]
  },
  {
   "cell_type": "code",
   "execution_count": null,
   "metadata": {},
   "outputs": [],
   "source": [
    "# for loops will iterate through values in a list. (In fact, you can use any\n",
    "# iterator object, but a list is the most common) \n",
    "myList = [0, 1, 2, 3, 4]\n",
    "for item in myList:\n",
    "    result = item + 1\n",
    "    print(result)"
   ]
  },
  {
   "cell_type": "code",
   "execution_count": null,
   "metadata": {},
   "outputs": [],
   "source": [
    "# Speaking of iterator objects, we can create one using range.  Range(n) will\n",
    "# generate numbers from 0 to n-1.  For example, range(5) returns a range object \n",
    "# which we can use to iterate from 0 to 4. \n",
    "# The idea of an iterator may be confusing, but just think if it as a list,\n",
    "# except only one value in the list is in memeory at a time.  So instead of\n",
    "# creating the list [0, 1, 2, 3, 4], you have created a range object that \n",
    "# \"counts\" from 0 to 4, one number at a time.\n",
    "range(5) # will generate numbers from 0 to 4"
   ]
  },
  {
   "cell_type": "code",
   "execution_count": null,
   "metadata": {},
   "outputs": [],
   "source": [
    "# You can actually convert a range object to a list using the list() function.\n",
    "list(range(5))"
   ]
  },
  {
   "cell_type": "code",
   "execution_count": null,
   "metadata": {},
   "outputs": [],
   "source": [
    "# Often, range() is used in for loops. This loop will iterate from 0 to 4.\n",
    "# That isthe variable number will take on the values 0, 1, 2, 3, 4.\n",
    "for number in range(10, 20):\n",
    "    if (number % 2) == 0:\n",
    "        print(number)"
   ]
  },
  {
   "cell_type": "code",
   "execution_count": null,
   "metadata": {},
   "outputs": [],
   "source": [
    "# But what if you want to loop over something other than numbers? We can do\n",
    "# that just as easily.\n",
    "\n",
    "listOfFiles = ['file1', 'file2', 'file3']\n",
    "for x in listOfFiles:\n",
    "    print(x)"
   ]
  },
  {
   "cell_type": "code",
   "execution_count": null,
   "metadata": {},
   "outputs": [],
   "source": [
    "# This loop loops over strings, names, and tuples in a list. This example\n",
    "# just shows how a for loop will iterate over a list that contains all kinds \n",
    "# of variables.\n",
    "myList = [1, 'Austin', 7.6, (4, 5), ['W', 'H', 'L']]\n",
    "for val in myList:\n",
    "    print(val)"
   ]
  },
  {
   "cell_type": "code",
   "execution_count": null,
   "metadata": {},
   "outputs": [],
   "source": [
    "# We can put if/else statements inside a for loop (we can put any code we \n",
    "# want inside a for loop)\n",
    "for n in range(1000):\n",
    "    if n % 7 == 0:\n",
    "        print(n, ' is divisible by 7')"
   ]
  },
  {
   "cell_type": "code",
   "execution_count": null,
   "metadata": {},
   "outputs": [],
   "source": [
    "# Can also 'skip' a loop in the for loop, but still continue the loop, using\n",
    "# the 'continue' keyword.\n",
    "for val in range(5):\n",
    "    if val == 1:\n",
    "        continue\n",
    "    print(val)"
   ]
  },
  {
   "cell_type": "code",
   "execution_count": null,
   "metadata": {},
   "outputs": [],
   "source": [
    "# You can also exit a loop using the break keyword:\n",
    "for word in ['apple', 'oregon', 'washington']:\n",
    "    print(word)\n",
    "    if word == 'oregon':\n",
    "        break\n",
    "\n",
    "print('complete')"
   ]
  },
  {
   "cell_type": "markdown",
   "metadata": {},
   "source": [
    "## You do not need to index lists to loop through them\n",
    "\n",
    "There are two examples of looping through a list below.\n",
    "\n",
    "In the first example, we use the range function to iterate through the list.  This does work but is not the preferred method in python. *Do not do this on your homework.*\n",
    "\n",
    "In the second example, we loop directly through the list. This is the method you want to use in your homework."
   ]
  },
  {
   "cell_type": "code",
   "execution_count": null,
   "metadata": {},
   "outputs": [],
   "source": [
    "# Example 1:\n",
    "my_list = ['apple', 'barn', 'cat', 'deer', 'elephant']\n",
    "new_list = []\n",
    "for i in range(len(my_list)):\n",
    "    item = my_list[i]\n",
    "    if len(item) <= 4:\n",
    "        new_list.append(item)\n",
    "\n",
    "print(new_list)"
   ]
  },
  {
   "cell_type": "code",
   "execution_count": null,
   "metadata": {},
   "outputs": [],
   "source": [
    "# Example 2:\n",
    "my_list = ['apple', 'barn', 'cat', 'deer', 'elephant']\n",
    "new_list = []\n",
    "for item in my_list:\n",
    "    if len(item) <= 4:\n",
    "        new_list.append(item)\n",
    "\n",
    "print(new_list)"
   ]
  },
  {
   "cell_type": "code",
   "execution_count": null,
   "metadata": {},
   "outputs": [],
   "source": []
  }
 ],
 "metadata": {
  "anaconda-cloud": {},
  "hide_input": false,
  "kernelspec": {
   "display_name": "Python 3 (ipykernel)",
   "language": "python",
   "name": "python3"
  },
  "language_info": {
   "codemirror_mode": {
    "name": "ipython",
    "version": 3
   },
   "file_extension": ".py",
   "mimetype": "text/x-python",
   "name": "python",
   "nbconvert_exporter": "python",
   "pygments_lexer": "ipython3",
   "version": "3.9.12"
  },
  "nbpresent": {
   "slides": {
    "1eb9c367-bcaf-4e95-8e87-66ca8b929e02": {
     "id": "1eb9c367-bcaf-4e95-8e87-66ca8b929e02",
     "prev": "9fa66828-4543-49c8-b52b-3e0eb72ec7d6",
     "regions": {
      "c8939296-ff76-4813-98ad-ed53e80bdd2f": {
       "attrs": {
        "height": 1,
        "width": 1,
        "x": 0,
        "y": 0
       },
       "id": "c8939296-ff76-4813-98ad-ed53e80bdd2f"
      }
     }
    },
    "3ef0b1c1-2e3b-4f42-b412-60d20b1a6a14": {
     "id": "3ef0b1c1-2e3b-4f42-b412-60d20b1a6a14",
     "prev": "1eb9c367-bcaf-4e95-8e87-66ca8b929e02",
     "regions": {
      "130dd85d-d697-4712-a4ad-4bcb73f8c7b3": {
       "attrs": {
        "height": 1,
        "width": 1,
        "x": 0,
        "y": 0
       },
       "content": {
        "cell": "e37bcd78-51ee-40ac-8d93-08a1cd314042",
        "part": "source"
       },
       "id": "130dd85d-d697-4712-a4ad-4bcb73f8c7b3"
      }
     }
    },
    "9fa66828-4543-49c8-b52b-3e0eb72ec7d6": {
     "id": "9fa66828-4543-49c8-b52b-3e0eb72ec7d6",
     "prev": null,
     "regions": {
      "46b00d61-d0ab-4c22-b9e1-387ad6e33f1d": {
       "attrs": {
        "height": 1,
        "width": 1,
        "x": 0,
        "y": 0
       },
       "content": {
        "cell": "5a89285e-9f84-41f9-8186-ec8e4a823342",
        "part": "source"
       },
       "id": "46b00d61-d0ab-4c22-b9e1-387ad6e33f1d"
      }
     }
    }
   },
   "themes": {}
  }
 },
 "nbformat": 4,
 "nbformat_minor": 1
}
