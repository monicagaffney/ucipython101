{
 "cells": [
  {
   "cell_type": "markdown",
   "id": "4855b1ae",
   "metadata": {},
   "source": [
    "# Module Five Homework for Prof. Henry"
   ]
  },
  {
   "cell_type": "markdown",
   "id": "7fbc5eb1",
   "metadata": {},
   "source": [
    "# Problem  1:  \n",
    "Create the following variable, my_word_list = [‘apple’, ‘orange’, ‘banana’]. Then, use the map function (and lambda keyword) to produce the list [‘_apple’ ,’_orange’, ’_banana’]. Assign the list to the variable, my_new_word_list, and print it."
   ]
  },
  {
   "cell_type": "code",
   "execution_count": 19,
   "id": "84ecb542",
   "metadata": {},
   "outputs": [
    {
     "name": "stdout",
     "output_type": "stream",
     "text": [
      "_apple\n",
      "_orange\n",
      "_banana\n"
     ]
    }
   ],
   "source": [
    "my_word_list = ['apple', 'orange', 'banana']\n",
    "map_results = map(lambda x: '_' + x,my_word_list)\n",
    "for my_new_word_list in map_results:\n",
    "    print(my_new_word_list)"
   ]
  },
  {
   "cell_type": "markdown",
   "id": "f101b832",
   "metadata": {},
   "source": [
    "# Problem 2:\n",
    "Create the following variable, my_state_list = [‘CA’, ‘OR’, ‘NY’, 'OR’]. Use the filter and lambda keyword to produce the list [‘CA’, ‘NY’]. Assign this list to the variable my_new_state_list, and print it."
   ]
  },
  {
   "cell_type": "code",
   "execution_count": 52,
   "id": "c7c058ef",
   "metadata": {},
   "outputs": [],
   "source": [
    "my_state_list = ['CA', 'OR', 'NY', 'OR']\n",
    "my_new_state_list = filter(lambda x: x in ['CA', 'NY'], my_state_list) "
   ]
  },
  {
   "cell_type": "code",
   "execution_count": 53,
   "id": "cf6afe51",
   "metadata": {},
   "outputs": [
    {
     "name": "stdout",
     "output_type": "stream",
     "text": [
      "['CA', 'NY']\n"
     ]
    }
   ],
   "source": [
    "print(list(my_new_state_list))"
   ]
  },
  {
   "cell_type": "markdown",
   "id": "93a6367b",
   "metadata": {},
   "source": [
    "# Problem 3:\n",
    "Create the following variable, my_number_list = [1, 2, 3, 4, 5]. Use a list comprehension to multiply each number by 3, and produce the list [3, 6, 9, 12, 15]. Assign this to the variable, my_new_number_list, and print it. "
   ]
  },
  {
   "cell_type": "code",
   "execution_count": 60,
   "id": "4a729e91",
   "metadata": {},
   "outputs": [
    {
     "name": "stdout",
     "output_type": "stream",
     "text": [
      "[3, 6, 9, 12, 15]\n"
     ]
    }
   ],
   "source": [
    "my_number_list = [1, 2, 3, 4, 5]\n",
    "my_new_number_list = map(lambda x: (x * 3), my_number_list)\n",
    "print(list(my_new_number_list))"
   ]
  },
  {
   "cell_type": "markdown",
   "id": "406ef508",
   "metadata": {},
   "source": [
    "# Problem 4:\n",
    "Create the following two lists, list_of_words = [‘love’, ‘the’, ‘outdoors’, ‘with’ , ’passion’], and words_to_temove = [‘the’, ‘with’, ‘of’, ‘a’]. Then create a new list that only contains the words in list_of_words that are not in wordsToRemove. Do this with a list comprehension. You will have an ‘if’ statement in your list comprehension. We did something similar in the lectures. "
   ]
  },
  {
   "cell_type": "code",
   "execution_count": 69,
   "id": "477a21a1",
   "metadata": {
    "scrolled": true
   },
   "outputs": [
    {
     "name": "stdout",
     "output_type": "stream",
     "text": [
      "['love', 'outdoors', 'passion']\n",
      "['the', 'with', 'of', 'a']\n"
     ]
    }
   ],
   "source": [
    "list_of_words = ['love', 'the', 'outdoors', 'with' , 'passion', 'a']\n",
    "words_to_remove = ['the', 'with', 'of', 'a']\n",
    "\n",
    "listCompResults_1 = [x for x in list_of_words if x in ['love', 'outdoors', 'passion']]\n",
    "print(listCompResults_1)\n",
    "\n",
    "listCompResults_2 = [x for x in words_to_remove if x in ['the', 'with', 'of', 'a']]\n",
    "print(listCompResults_2)"
   ]
  },
  {
   "cell_type": "markdown",
   "id": "bd07ee0d",
   "metadata": {},
   "source": [
    "# Problem 5:\n",
    "Repeat problem 4, except this time accomplish it using the filter function, instead of using a list comprehension.b"
   ]
  },
  {
   "cell_type": "code",
   "execution_count": 67,
   "id": "bdc49637",
   "metadata": {},
   "outputs": [
    {
     "name": "stdout",
     "output_type": "stream",
     "text": [
      "['love', 'outdoors', 'passion']\n"
     ]
    }
   ],
   "source": [
    "list_of_words = ['love', 'the', 'outdoors', 'with' , 'passion', 'a']\n",
    "filterResults = filter(lambda x: x in  ['love', 'outdoors', 'passion'], list_of_words)\n",
    "print(list(filterResults))"
   ]
  }
 ],
 "metadata": {
  "kernelspec": {
   "display_name": "Python 3 (ipykernel)",
   "language": "python",
   "name": "python3"
  },
  "language_info": {
   "codemirror_mode": {
    "name": "ipython",
    "version": 3
   },
   "file_extension": ".py",
   "mimetype": "text/x-python",
   "name": "python",
   "nbconvert_exporter": "python",
   "pygments_lexer": "ipython3",
   "version": "3.9.12"
  }
 },
 "nbformat": 4,
 "nbformat_minor": 5
}
