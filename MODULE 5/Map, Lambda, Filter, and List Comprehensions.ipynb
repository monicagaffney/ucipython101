{
 "cells": [
  {
   "cell_type": "markdown",
   "metadata": {},
   "source": [
    "# The Map Function\n",
    "* The map function takes in a list of items and maps them to other values. i.e. [1, 2, 3, 4, 5] -> [2, 4, 6, 8, 10]\n",
    "* The map function is a built in function, so we do not need to import anything.\n",
    "* For example:"
   ]
  },
  {
   "cell_type": "code",
   "execution_count": 1,
   "metadata": {},
   "outputs": [],
   "source": [
    "from functools import reduce"
   ]
  },
  {
   "cell_type": "markdown",
   "metadata": {},
   "source": [
    "## Example 1:"
   ]
  },
  {
   "cell_type": "code",
   "execution_count": null,
   "metadata": {},
   "outputs": [],
   "source": [
    "def square(x):\n",
    "    return x**2\n",
    "\n",
    "myList = [1, 2, 3, 4]\n",
    "\n",
    "mapObject = map(square, myList)\n",
    "\n",
    "print(mapObject)\n",
    "newList = list(mapObject)\n",
    "print(newList)"
   ]
  },
  {
   "cell_type": "code",
   "execution_count": null,
   "metadata": {},
   "outputs": [],
   "source": [
    "my_list = [3, 9, 1.1]\n",
    "\n",
    "\n",
    "map_results = map(lambda x: x**2, my_list)"
   ]
  },
  {
   "cell_type": "code",
   "execution_count": null,
   "metadata": {},
   "outputs": [],
   "source": [
    "a_list = range(0, 100000)\n",
    "square_step = map(square, a_list)\n",
    "\n",
    "def minus_1(x):\n",
    "    return x - 1\n",
    "\n",
    "minus_1_step = map(minus_1, square_step)"
   ]
  },
  {
   "cell_type": "code",
   "execution_count": null,
   "metadata": {},
   "outputs": [],
   "source": [
    "for value in minus_1_step:\n",
    "    print(value)"
   ]
  },
  {
   "cell_type": "markdown",
   "metadata": {},
   "source": [
    "## Example 2:"
   ]
  },
  {
   "cell_type": "code",
   "execution_count": null,
   "metadata": {},
   "outputs": [],
   "source": [
    "myList = ['93940', '97702', '37856']\n",
    "mapObject = map(int, myList)\n",
    "for item in mapObject:\n",
    "    print(item)"
   ]
  },
  {
   "cell_type": "markdown",
   "metadata": {},
   "source": [
    "## Example 3:"
   ]
  },
  {
   "cell_type": "code",
   "execution_count": null,
   "metadata": {},
   "outputs": [],
   "source": [
    "myList = [111, 120, 30, 40, 105]\n",
    "mapObject = map(lambda x: min(100, x), myList)\n",
    "for item in mapObject:\n",
    "    print(item)"
   ]
  },
  {
   "cell_type": "markdown",
   "metadata": {},
   "source": [
    "## The Map Function Returns Map Objects\n",
    "\n",
    "These map objects are 'iterable' objects. This means that we can iterate through them (for example, we can loop through them using a for loop). Each individual result in a map object is generated just-in-time. That is, it is not generated until we access the value.  We can only loop through map objects once; after the map object has generated all of its values, it will not generate them again.\n",
    "\n",
    "Let's repeat the example from above and talk a little bit more about the behavior of map objects."
   ]
  },
  {
   "cell_type": "code",
   "execution_count": 8,
   "metadata": {},
   "outputs": [
    {
     "name": "stdout",
     "output_type": "stream",
     "text": [
      "<class 'map'>\n"
     ]
    }
   ],
   "source": [
    "# Run this cell before running one of the cells below.\n",
    "# Note that you will need to rerun this cell everytime you want to \n",
    "# run one of the cells below.\n",
    "myList = [111, 120, 30, 40, 105]\n",
    "mapObject = map(lambda x: min(100, x), myList)\n",
    "print(type(mapObject))"
   ]
  },
  {
   "cell_type": "code",
   "execution_count": 9,
   "metadata": {},
   "outputs": [],
   "source": [
    "# we can convert the map object to a list\n",
    "my_list = list(mapObject)"
   ]
  },
  {
   "cell_type": "code",
   "execution_count": 10,
   "metadata": {},
   "outputs": [
    {
     "name": "stdout",
     "output_type": "stream",
     "text": [
      "[]\n"
     ]
    }
   ],
   "source": [
    "# we can loop through the the map object\n",
    "my_results = []\n",
    "for item in mapObject:\n",
    "    my_results.append(item)\n",
    "print(my_results)"
   ]
  },
  {
   "cell_type": "markdown",
   "metadata": {},
   "source": [
    "# Lambda Functions \n",
    "Lambda functions are functions that can be defined 'in-line'. (sometimes called anonymous functions).  Lambda functions are almost always used when being passed as arguments to other functions, like sorted, map, and filter."
   ]
  },
  {
   "cell_type": "markdown",
   "metadata": {},
   "source": [
    "## Let's breakdown the lambda statement from the map() function above:\n",
    "* For this example we will use lambda x: x - 10, this is the lambda statement we say in the map() example above\n",
    "* ‘lambda’ is the keyword that let’s python know we are about to define an anonymous function.\n",
    "* ‘x’ defines the arguments that the function will accept.\n",
    "* ‘:’ is the key character that the signifies the function definition is coming after ‘:’\n",
    "* ‘x - 10’ is the content of the function.\n"
   ]
  },
  {
   "cell_type": "markdown",
   "metadata": {},
   "source": [
    "## Another map example:"
   ]
  },
  {
   "cell_type": "code",
   "execution_count": null,
   "metadata": {},
   "outputs": [],
   "source": [
    "myWord = 'APPLE'.lower()\n",
    "print(myWord)\n",
    "\n",
    "words = ['APPLE', 'ORANGE', 'BANANA']\n",
    "lowerWords = map(lambda x: x.lower(), words)\n",
    "list(lowerWords)"
   ]
  },
  {
   "cell_type": "markdown",
   "metadata": {},
   "source": [
    "## Using lambda with sorted()"
   ]
  },
  {
   "cell_type": "code",
   "execution_count": null,
   "metadata": {},
   "outputs": [],
   "source": [
    "filename = 'a_tmp_20160101_01'\n",
    "\n",
    "filename.split('_')[3]"
   ]
  },
  {
   "cell_type": "code",
   "execution_count": null,
   "metadata": {},
   "outputs": [],
   "source": [
    "# It's common to want to sort a list of files\n",
    "fileList = ['a_tmp_20160101_01', 'b_tmp_20160101_00']\n",
    "\n",
    "# But what if we want to sort by the last portion of the filename? We will \n",
    "# need to use lambda function that isolates that part of the filename. Then,\n",
    "# we pass the function to the 'key' argument of sorted.\n",
    "\n",
    "sortedList = sorted(fileList, key=lambda x: x.split('_')[3])\n",
    "print(sortedList)\n",
    "\n"
   ]
  },
  {
   "cell_type": "code",
   "execution_count": null,
   "metadata": {},
   "outputs": [],
   "source": [
    "'+' + 'pear'"
   ]
  },
  {
   "cell_type": "markdown",
   "metadata": {},
   "source": [
    "# Introducing Filter\n",
    "* Now that you have learned map and lambda, learning filter will be much easier.\n",
    "* Filter is a lot like map, except instead it filters items out of lists.\n",
    "* For Example:"
   ]
  },
  {
   "cell_type": "markdown",
   "metadata": {},
   "source": [
    "## Example 1:"
   ]
  },
  {
   "cell_type": "code",
   "execution_count": 1,
   "metadata": {},
   "outputs": [
    {
     "data": {
      "text/plain": [
       "[1, 3]"
      ]
     },
     "execution_count": 1,
     "metadata": {},
     "output_type": "execute_result"
    }
   ],
   "source": [
    "myList = [1, 2, 3, 4]\n",
    "filtered = filter(lambda x: (x % 2) == 1, myList)\n",
    "list(filtered)"
   ]
  },
  {
   "cell_type": "markdown",
   "metadata": {},
   "source": [
    "## Example 2"
   ]
  },
  {
   "cell_type": "code",
   "execution_count": 4,
   "metadata": {},
   "outputs": [
    {
     "data": {
      "text/plain": [
       "['oregon', 'oregon', 'washington']"
      ]
     },
     "execution_count": 4,
     "metadata": {},
     "output_type": "execute_result"
    }
   ],
   "source": [
    "wordList = ['oregon', 'florida', 'california', 'oregon', 'washington']\n",
    "words = filter(lambda x: x in ['oregon', 'washington'], wordList)\n",
    "list(words)"
   ]
  },
  {
   "cell_type": "markdown",
   "metadata": {},
   "source": [
    "# Reduce"
   ]
  },
  {
   "cell_type": "code",
   "execution_count": null,
   "metadata": {},
   "outputs": [],
   "source": [
    "num_list = [1.1, 3.4, -1, 9.0]\n",
    "# 1.1 + 3.4 = 4.5\n",
    "# 4.5 + -1 = 3.5\n",
    "# 3.5 + 9 = 12.5\n",
    "result = sum(num_list)\n",
    "print(result)\n",
    "\n",
    "result_2 = reduce(lambda x, y: x + y, num_list)\n",
    "print(result_2)"
   ]
  },
  {
   "cell_type": "markdown",
   "metadata": {},
   "source": [
    "# List Comprehensions\n",
    "* List comprehensions allow us to create new lists from manipulations of other lists.\n",
    "* This is similar to map and filter, but can do more.\n",
    "* Let’s look at an example of comparing the map function to a list comprehension, I will talk through the syntax."
   ]
  },
  {
   "cell_type": "markdown",
   "metadata": {},
   "source": [
    "## Comparing A List Comprehension to Map"
   ]
  },
  {
   "cell_type": "code",
   "execution_count": 12,
   "metadata": {},
   "outputs": [
    {
     "name": "stdout",
     "output_type": "stream",
     "text": [
      "[1, 4, 9]\n",
      "[1, 4, 9]\n",
      "[1, 4, 9]\n"
     ]
    }
   ],
   "source": [
    "myList = [1, 2, 3]\n",
    "mapResults = map(lambda x: x**2, myList)\n",
    "print(list(mapResults))\n",
    "\n",
    "listCompResults = [y**2 for y in myList]\n",
    "print(listCompResults)\n",
    "\n",
    "resultList = []\n",
    "for x in myList:\n",
    "    resultList.append(x**2)\n",
    "print(resultList)"
   ]
  },
  {
   "cell_type": "markdown",
   "metadata": {},
   "source": [
    "## Comparing A List Comprehension to Filter"
   ]
  },
  {
   "cell_type": "code",
   "execution_count": 11,
   "metadata": {},
   "outputs": [
    {
     "name": "stdout",
     "output_type": "stream",
     "text": [
      "[1, 2]\n",
      "[1, 2]\n",
      "[3, 4]\n"
     ]
    }
   ],
   "source": [
    "myList = [1, 2, 3, 4, 5]\n",
    "filterResults = filter(lambda x: x < 3, myList)\n",
    "print(list(filterResults))\n",
    "\n",
    "listCompResults = [x for x in myList if x < 3]\n",
    "print(listCompResults)\n",
    "\n",
    "listCompResults = [x + 2 for x in myList if x < 3]\n",
    "print(listCompResults)"
   ]
  },
  {
   "cell_type": "markdown",
   "metadata": {},
   "source": [
    "## Another List Comprehension Example"
   ]
  },
  {
   "cell_type": "code",
   "execution_count": null,
   "metadata": {},
   "outputs": [],
   "source": [
    "myList = ['oregon', 'florida', 'california']\n",
    "words = [x for x in myList if x in ['oregon', 'washington']]\n",
    "print(words)"
   ]
  },
  {
   "cell_type": "markdown",
   "metadata": {},
   "source": [
    "# Considerations when choosing between a list comprehension, map, or filter:\n",
    "1. List comprehensions use more memory than map or filter (map or filter create iterators, while a list comprehension creates a list)\n",
    "2. List comprehensions can allow for more complexity, or sometimes easier reading"
   ]
  },
  {
   "cell_type": "markdown",
   "metadata": {},
   "source": [
    "## More advanced list comprehensions:"
   ]
  },
  {
   "cell_type": "code",
   "execution_count": 13,
   "metadata": {},
   "outputs": [
    {
     "data": {
      "text/plain": [
       "[9, 10, 18, 20]"
      ]
     },
     "execution_count": 13,
     "metadata": {},
     "output_type": "execute_result"
    }
   ],
   "source": [
    "list1 = [1, 2]\n",
    "list2 = [9, 10]\n",
    "[x * y for x in list1 for y in list2]"
   ]
  },
  {
   "cell_type": "code",
   "execution_count": null,
   "metadata": {},
   "outputs": [],
   "source": [
    "for x in list1:\n",
    "    for y in list2:\n",
    "        print(x*y)"
   ]
  },
  {
   "cell_type": "code",
   "execution_count": null,
   "metadata": {},
   "outputs": [],
   "source": [
    "# In this example below, note that the \"x in list1\" part of the statement is \n",
    "# evaluated first, then the 'for y in x' is evaluated.\n",
    "\n",
    "list1 = [[1, 2], ['hey', 'ho']]\n",
    "[y for x in list1 for y in x]"
   ]
  },
  {
   "cell_type": "code",
   "execution_count": null,
   "metadata": {},
   "outputs": [],
   "source": []
  }
 ],
 "metadata": {
  "anaconda-cloud": {},
  "hide_input": false,
  "kernelspec": {
   "display_name": "Python 3 (ipykernel)",
   "language": "python",
   "name": "python3"
  },
  "language_info": {
   "codemirror_mode": {
    "name": "ipython",
    "version": 3
   },
   "file_extension": ".py",
   "mimetype": "text/x-python",
   "name": "python",
   "nbconvert_exporter": "python",
   "pygments_lexer": "ipython3",
   "version": "3.9.12"
  },
  "nbpresent": {
   "slides": {
    "1eb9c367-bcaf-4e95-8e87-66ca8b929e02": {
     "id": "1eb9c367-bcaf-4e95-8e87-66ca8b929e02",
     "prev": "9fa66828-4543-49c8-b52b-3e0eb72ec7d6",
     "regions": {
      "c8939296-ff76-4813-98ad-ed53e80bdd2f": {
       "attrs": {
        "height": 1,
        "width": 1,
        "x": 0,
        "y": 0
       },
       "id": "c8939296-ff76-4813-98ad-ed53e80bdd2f"
      }
     }
    },
    "3ef0b1c1-2e3b-4f42-b412-60d20b1a6a14": {
     "id": "3ef0b1c1-2e3b-4f42-b412-60d20b1a6a14",
     "prev": "1eb9c367-bcaf-4e95-8e87-66ca8b929e02",
     "regions": {
      "130dd85d-d697-4712-a4ad-4bcb73f8c7b3": {
       "attrs": {
        "height": 1,
        "width": 1,
        "x": 0,
        "y": 0
       },
       "content": {
        "cell": "e37bcd78-51ee-40ac-8d93-08a1cd314042",
        "part": "source"
       },
       "id": "130dd85d-d697-4712-a4ad-4bcb73f8c7b3"
      }
     }
    },
    "9fa66828-4543-49c8-b52b-3e0eb72ec7d6": {
     "id": "9fa66828-4543-49c8-b52b-3e0eb72ec7d6",
     "prev": null,
     "regions": {
      "46b00d61-d0ab-4c22-b9e1-387ad6e33f1d": {
       "attrs": {
        "height": 1,
        "width": 1,
        "x": 0,
        "y": 0
       },
       "content": {
        "cell": "5a89285e-9f84-41f9-8186-ec8e4a823342",
        "part": "source"
       },
       "id": "46b00d61-d0ab-4c22-b9e1-387ad6e33f1d"
      }
     }
    }
   },
   "themes": {}
  }
 },
 "nbformat": 4,
 "nbformat_minor": 1
}
