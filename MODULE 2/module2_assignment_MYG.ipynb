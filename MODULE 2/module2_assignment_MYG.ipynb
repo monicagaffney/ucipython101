{
 "cells": [
  {
   "cell_type": "markdown",
   "id": "cd9e58c3",
   "metadata": {},
   "source": [
    "## Monica's Mod # 2 homework assignment"
   ]
  },
  {
   "cell_type": "code",
   "execution_count": 45,
   "id": "41296071",
   "metadata": {},
   "outputs": [],
   "source": [
    "my_number = 3.5\n",
    "my_int = 5\n",
    "my_string = 'university'\n",
    "my_list = [1.0, 'hello', [1, 2]] \n",
    "my_tuple = (1.3, 3.5)\n",
    "my_dictionary = {'name' : 'Shannon' , 'age' : 37}\n",
    "my_set = {'apple','orange','banana'}\n",
    "my_bool = False"
   ]
  },
  {
   "cell_type": "code",
   "execution_count": 52,
   "id": "e2e1e605",
   "metadata": {},
   "outputs": [
    {
     "name": "stdout",
     "output_type": "stream",
     "text": [
      "<class 'float'>\n",
      "<class 'list'>\n",
      "<class 'str'>\n",
      "<class 'list'>\n",
      "<class 'tuple'>\n",
      "<class 'dict'>\n",
      "<class 'set'>\n"
     ]
    }
   ],
   "source": [
    "print(type(my_number))\n",
    "print(type(my_int))\n",
    "print(type(my_string))\n",
    "print(type(my_list))\n",
    "print(type(my_tuple))\n",
    "print(type(my_dictionary))\n",
    "print(type(my_set))"
   ]
  }
 ],
 "metadata": {
  "kernelspec": {
   "display_name": "Python 3 (ipykernel)",
   "language": "python",
   "name": "python3"
  },
  "language_info": {
   "codemirror_mode": {
    "name": "ipython",
    "version": 3
   },
   "file_extension": ".py",
   "mimetype": "text/x-python",
   "name": "python",
   "nbconvert_exporter": "python",
   "pygments_lexer": "ipython3",
   "version": "3.9.12"
  }
 },
 "nbformat": 4,
 "nbformat_minor": 5
}
