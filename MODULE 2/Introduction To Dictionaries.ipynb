{
 "cells": [
  {
   "cell_type": "markdown",
   "metadata": {},
   "source": [
    "# Introduction To Dictionaries\n",
    "Dictionaries allow us to store data in key value pairs. They are similar to lists, but, instead of finding items by their index, we find them by a label (key).  For example, we could create a dictionary that contains user informations, like name, age, and state. Each of these values would have the corresponding key ('name', 'age', 'state').  We define dictionaries using {}. Let's talk through the examples below."
   ]
  },
  {
   "cell_type": "markdown",
   "metadata": {},
   "source": [
    "## Dictionary examples"
   ]
  },
  {
   "cell_type": "code",
   "execution_count": 1,
   "metadata": {},
   "outputs": [
    {
     "name": "stdout",
     "output_type": "stream",
     "text": [
      "Jill Smith\n",
      "{'name': 'Jill Smith', 'age': 35, 'state': 'OR'}\n",
      "{'name': 'Jill Smith', 'state': 'OR'}\n",
      "{'name': 'Jill Smith', 'state': 'OR', 'height': 5.1}\n",
      "{'name': 'jill', 'state': 'OR', 'height': 5.1}\n"
     ]
    }
   ],
   "source": [
    "# We can define a dictionary like seen below.  Note the use of curly brackets,\n",
    "# {}, and the ':' used to separate the key and value.\n",
    "\n",
    "# This dictionary has 3 pieces of data, the keys are 'name', 'age' and 'state.\n",
    "# The values are show below.\n",
    "user_info = {'name': 'Jill Smith', 'age': 35, 'state': 'OR'}\n",
    "\n",
    "# We can access the data using the keys\n",
    "user_name = user_info['name']\n",
    "print(user_name)\n",
    "\n",
    "# We can print the dictionary to see all the keys & values\n",
    "print(user_info)\n",
    "\n",
    "# We can remove items from the dictionary using 'del', just like we did with lists\n",
    "del user_info['age']\n",
    "print(user_info)\n",
    "\n",
    "# We can add items to a dictionary in the following way:\n",
    "user_info['height'] = 5.1\n",
    "print(user_info)\n",
    "\n",
    "# We can update the name value to a value from a list\n",
    "name_list = ['will', 'jill']\n",
    "user_info['name'] = name_list[1]\n",
    "print(user_info)\n",
    "\n"
   ]
  },
  {
   "cell_type": "markdown",
   "metadata": {},
   "source": [
    "## Using the get() method\n",
    "Above we saw that we can get items from a dictionary with this syntax `user_info['name']`. However, we can also use the `get()` method. The `get()` method has the benefit of returning `None` if the key is not found in the dictionary. We can also sepcify alterante default values. Let's see an example below."
   ]
  },
  {
   "cell_type": "code",
   "execution_count": null,
   "metadata": {},
   "outputs": [],
   "source": [
    "print(user_info)\n",
    "\n",
    "name = user_info.get('name')\n",
    "print(name)\n",
    "\n",
    "age = user_info.get('age')\n",
    "print(age)\n",
    "\n",
    "status = user_info.get('status', 'inactive')\n",
    "print(status)"
   ]
  },
  {
   "cell_type": "markdown",
   "metadata": {},
   "source": [
    "## Checking if a key is part of dictionary using the `in` operator"
   ]
  },
  {
   "cell_type": "code",
   "execution_count": null,
   "metadata": {},
   "outputs": [],
   "source": [
    "address_in_dict = 'address' in user_info\n",
    "print(address_in_dict)\n",
    "\n",
    "name_in_dict = 'name' in user_info\n",
    "print(name_in_dict)"
   ]
  },
  {
   "cell_type": "markdown",
   "metadata": {},
   "source": [
    "## Listing the items, keys, and values of a dictionary\n",
    "\n",
    "Sometimes it is useful to create lists of the keys, values or items in a dictionary"
   ]
  },
  {
   "cell_type": "code",
   "execution_count": null,
   "metadata": {},
   "outputs": [],
   "source": [
    "# We can get a list of the dicitonary keys like so:\n",
    "dictionary_keys_object = user_info.keys()\n",
    "keys_list = list(dictionary_keys_object)\n",
    "print(keys_list)\n",
    "\n",
    "# We can get a list of the dicitonary values like so:\n",
    "dictionary_values_object = user_info.values()\n",
    "values_list = list(dictionary_values_object)\n",
    "print(values_list)\n",
    "\n",
    "# We can convert the dictionary to a list of its key value pairs\n",
    "key_value_list = list(user_info.items())\n",
    "print(key_value_list)"
   ]
  },
  {
   "cell_type": "markdown",
   "metadata": {},
   "source": [
    "## Keys do not have to be strings"
   ]
  },
  {
   "cell_type": "code",
   "execution_count": null,
   "metadata": {},
   "outputs": [],
   "source": [
    "# Keys can be other variables, like tuples or numbers.  Lists can not be used as keys.\n",
    "# Below, we see an example of a tuple used as a key\n",
    "my_dict = {}\n",
    "my_dict[(34.7, -120.2)] = 74.6\n",
    "print(my_dict)"
   ]
  },
  {
   "cell_type": "markdown",
   "metadata": {},
   "source": [
    "## Nested dictionaries\n",
    "We can created nested dictionaries (dictionaries with values that are dictionaries). See the example below:"
   ]
  },
  {
   "cell_type": "code",
   "execution_count": null,
   "metadata": {},
   "outputs": [],
   "source": [
    "nested_dict = {}\n",
    "nested_dict['person1'] = {}\n",
    "print(nested_dict)\n",
    "nested_dict['person1']['name'] = None\n",
    "nested_dict['person2'] = {'name': 'jill'}\n",
    "print(nested_dict)"
   ]
  },
  {
   "cell_type": "markdown",
   "metadata": {},
   "source": [
    "## Converting dictionaries to JSON and JSON to dictionaries\n",
    "This is helpful for those that often work with JSON data. For example, APIs often return data as JSON strings."
   ]
  },
  {
   "cell_type": "code",
   "execution_count": null,
   "metadata": {},
   "outputs": [],
   "source": [
    "import json\n",
    "\n",
    "json_string = json.dumps(nested_dict)\n",
    "print(json_string)\n",
    "print(type(json_string))\n",
    "print('\\n')\n",
    "\n",
    "my_dictionary = json.loads(json_string)\n",
    "print(my_dictionary)\n",
    "print(type(my_dictionary))"
   ]
  },
  {
   "cell_type": "code",
   "execution_count": null,
   "metadata": {},
   "outputs": [],
   "source": []
  }
 ],
 "metadata": {
  "anaconda-cloud": {},
  "hide_input": false,
  "kernelspec": {
   "display_name": "Python 3 (ipykernel)",
   "language": "python",
   "name": "python3"
  },
  "language_info": {
   "codemirror_mode": {
    "name": "ipython",
    "version": 3
   },
   "file_extension": ".py",
   "mimetype": "text/x-python",
   "name": "python",
   "nbconvert_exporter": "python",
   "pygments_lexer": "ipython3",
   "version": "3.9.12"
  },
  "nbpresent": {
   "slides": {
    "1eb9c367-bcaf-4e95-8e87-66ca8b929e02": {
     "id": "1eb9c367-bcaf-4e95-8e87-66ca8b929e02",
     "prev": "9fa66828-4543-49c8-b52b-3e0eb72ec7d6",
     "regions": {
      "c8939296-ff76-4813-98ad-ed53e80bdd2f": {
       "attrs": {
        "height": 1,
        "width": 1,
        "x": 0,
        "y": 0
       },
       "id": "c8939296-ff76-4813-98ad-ed53e80bdd2f"
      }
     }
    },
    "3ef0b1c1-2e3b-4f42-b412-60d20b1a6a14": {
     "id": "3ef0b1c1-2e3b-4f42-b412-60d20b1a6a14",
     "prev": "1eb9c367-bcaf-4e95-8e87-66ca8b929e02",
     "regions": {
      "130dd85d-d697-4712-a4ad-4bcb73f8c7b3": {
       "attrs": {
        "height": 1,
        "width": 1,
        "x": 0,
        "y": 0
       },
       "content": {
        "cell": "e37bcd78-51ee-40ac-8d93-08a1cd314042",
        "part": "source"
       },
       "id": "130dd85d-d697-4712-a4ad-4bcb73f8c7b3"
      }
     }
    },
    "9fa66828-4543-49c8-b52b-3e0eb72ec7d6": {
     "id": "9fa66828-4543-49c8-b52b-3e0eb72ec7d6",
     "prev": null,
     "regions": {
      "46b00d61-d0ab-4c22-b9e1-387ad6e33f1d": {
       "attrs": {
        "height": 1,
        "width": 1,
        "x": 0,
        "y": 0
       },
       "content": {
        "cell": "5a89285e-9f84-41f9-8186-ec8e4a823342",
        "part": "source"
       },
       "id": "46b00d61-d0ab-4c22-b9e1-387ad6e33f1d"
      }
     }
    }
   },
   "themes": {}
  }
 },
 "nbformat": 4,
 "nbformat_minor": 2
}
