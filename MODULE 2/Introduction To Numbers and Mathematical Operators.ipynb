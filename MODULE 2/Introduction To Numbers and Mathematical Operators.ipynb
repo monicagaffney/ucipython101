{
 "cells": [
  {
   "cell_type": "markdown",
   "metadata": {},
   "source": [
    "# Introduction To Numbers and Mathematical Operators\n",
    "\n",
    "There two main number types in python: integers and floating point numbers. We will look at each below and then we will look at some mathematical operators."
   ]
  },
  {
   "cell_type": "markdown",
   "metadata": {
    "nbpresent": {
     "id": "38320614-b9ec-481e-8998-65e37ac09e24"
    }
   },
   "source": [
    "# Integers\n",
    "Integers are numbers without a fractional part (or decimal portion). Below we will look at some examples."
   ]
  },
  {
   "cell_type": "markdown",
   "metadata": {},
   "source": [
    "## Integers Examples\n",
    "Below we create a variable 'myInt' and assign it the value -5.\n",
    "We then use the print() function and the type() function to print the value and the type of variable that it is.  We will talk through this in class."
   ]
  },
  {
   "cell_type": "code",
   "execution_count": null,
   "metadata": {
    "nbpresent": {
     "id": "3bf3ce53-738d-45f4-9b8a-214da3e2aa45"
    },
    "run_control": {
     "marked": true
    }
   },
   "outputs": [],
   "source": [
    "# this is an integer:\n",
    "my_int = -5\n",
    "print(my_int)\n",
    "\n",
    "variable_type = type(my_int)\n",
    "print(variable_type)\n",
    "\n",
    "print(type(my_int))"
   ]
  },
  {
   "cell_type": "markdown",
   "metadata": {},
   "source": [
    "# Floating Point Numbers\n",
    "'Floats' are numbers with a decimal part, i.e. 3.14159"
   ]
  },
  {
   "cell_type": "markdown",
   "metadata": {},
   "source": [
    "## Floating Point Examples"
   ]
  },
  {
   "cell_type": "code",
   "execution_count": 1,
   "metadata": {
    "nbpresent": {
     "id": "8928869d-2157-422f-8c25-ac93f950586c"
    }
   },
   "outputs": [
    {
     "name": "stdout",
     "output_type": "stream",
     "text": [
      "<class 'float'>\n",
      "5.0\n",
      "<class 'float'>\n",
      "22.32121241343\n"
     ]
    }
   ],
   "source": [
    "# this is not an integer, it is a float. Even thought the value is a whole number, it includes a decimal point\n",
    "my_float = 5.0\n",
    "print(type(my_float))\n",
    "print(my_float)\n",
    "\n",
    "# here is another float:\n",
    "my_other_float = 22.32121241343\n",
    "print(type(my_other_float))\n",
    "print(my_other_float)"
   ]
  },
  {
   "cell_type": "markdown",
   "metadata": {},
   "source": [
    "# Converting Numbers To Different Types\n",
    "We can convert ints to floats and floats to ints. This is called 'casting' a variable - i.e. 'cast the integer as a float'. We will see some examples below."
   ]
  },
  {
   "cell_type": "code",
   "execution_count": null,
   "metadata": {},
   "outputs": [],
   "source": [
    "# Let's print the my_float variable from the previous cell\n",
    "print(my_float)\n",
    "print(type(my_float))\n",
    "\n",
    "# This is an example of casting a float to an integer. Notice that the decimal\n",
    "# portion is just removed:\n",
    "my_int = int(my_float)\n",
    "print(my_int)\n",
    "print(type(my_int))\n",
    "\n",
    "# We can also cast an integer as a float\n",
    "number_of_months = 12\n",
    "number_of_months = float(number_of_months)\n",
    "print(number_of_months)\n",
    "print(type(number_of_months))\n",
    "\n"
   ]
  },
  {
   "cell_type": "markdown",
   "metadata": {},
   "source": [
    "# Mathematical Operators\n",
    "\n",
    "Below, you will find examples of common mathatical operators (+, -, \\*) and some less common ones (%). Let's talk through these examples. These are all built-in operators. There is Math module in the standard library that provides more advanced mathematical functions (https://docs.python.org/3/library/math.html)."
   ]
  },
  {
   "cell_type": "code",
   "execution_count": null,
   "metadata": {},
   "outputs": [],
   "source": [
    "# Let's do some math with integers and floats\n",
    "\n",
    "# addition and subtraction use + and -:\n",
    "# with integers, we get integer answers:\n",
    "print('\\nAddition and Subtraction with Integers:')\n",
    "\n",
    "answer = 10 - 2\n",
    "print(answer)\n",
    "print(type(answer))\n",
    "\n",
    "answer = 10 + 2\n",
    "print(answer)\n",
    "print(type(answer))\n",
    "\n",
    "print('\\nAddition and Subtraction with Floating Numbers:')\n",
    "# with floating numbers, we get floating number answers:\n",
    "answer = 10.0 - 2.0 + 5.0\n",
    "print(answer)\n",
    "print(type(answer))\n",
    "\n",
    "print('\\nAddition and Subtraction with Floating Numbers and Integers:')\n",
    "# When you mix floating numbers and integers, the answer will be a floating\n",
    "# number.\n",
    "answer = 10 - 2 + 5.0\n",
    "print(answer)\n",
    "print(type(answer))\n",
    "\n",
    "print('\\nMultiplication and Division with Intengers:')\n",
    "# when multiplying with integers, your result will be an integer.\n",
    "# when dividing with integers, your result will be a floating point number, \n",
    "# even if the answer is a whole number.\n",
    "# multiplication uses the '*' character:\n",
    "answer = 3.0 * 5\n",
    "print(answer)\n",
    "print(type(answer))\n",
    "\n",
    "# division uses the '/' character:\n",
    "answer = 6 / 4\n",
    "print(answer)\n",
    "print(type(answer))\n",
    "\n",
    "print('\\nMultiplication and Division with Floats:')\n",
    "answer = 5.0 * 5.765\n",
    "print(answer)\n",
    "print(type(answer))\n",
    "\n",
    "answer = 5.0 / 2.123\n",
    "print(answer)\n",
    "print(type(answer))\n",
    "\n",
    "print('\\nMultiplication and Division with a mixture of Integers and Floats '\n",
    "      'will result in a float')\n",
    "\n",
    "answer = 7 * 5.0 / 2.123 * 6\n",
    "print(answer)\n",
    "print(type(answer))\n",
    "\n",
    "print('\\nThe modulo operator %')\n",
    "\n",
    "answer = 10 % 7\n",
    "print(answer)\n",
    "print(type(answer))\n",
    "\n",
    "print('\\nInteger division // (or division without the remainder)')\n",
    "\n",
    "answer = 10.0 // 7.0\n",
    "print(answer)\n",
    "print(type(answer))\n",
    "\n",
    "print('\\nRaising a number to a power')\n",
    "\n",
    "answer = 3**2\n",
    "print(answer)\n",
    "print(type(answer))\n",
    "\n",
    "print('\\nFinding the square root of a number')\n",
    "\n",
    "answer = 9**(1/2)\n",
    "print(answer)\n",
    "print(type(answer))"
   ]
  },
  {
   "cell_type": "code",
   "execution_count": null,
   "metadata": {},
   "outputs": [],
   "source": []
  }
 ],
 "metadata": {
  "anaconda-cloud": {},
  "hide_input": false,
  "kernelspec": {
   "display_name": "Python 3 (ipykernel)",
   "language": "python",
   "name": "python3"
  },
  "language_info": {
   "codemirror_mode": {
    "name": "ipython",
    "version": 3
   },
   "file_extension": ".py",
   "mimetype": "text/x-python",
   "name": "python",
   "nbconvert_exporter": "python",
   "pygments_lexer": "ipython3",
   "version": "3.9.12"
  },
  "nbpresent": {
   "slides": {
    "1eb9c367-bcaf-4e95-8e87-66ca8b929e02": {
     "id": "1eb9c367-bcaf-4e95-8e87-66ca8b929e02",
     "prev": "9fa66828-4543-49c8-b52b-3e0eb72ec7d6",
     "regions": {
      "c8939296-ff76-4813-98ad-ed53e80bdd2f": {
       "attrs": {
        "height": 1,
        "width": 1,
        "x": 0,
        "y": 0
       },
       "id": "c8939296-ff76-4813-98ad-ed53e80bdd2f"
      }
     }
    },
    "3ef0b1c1-2e3b-4f42-b412-60d20b1a6a14": {
     "id": "3ef0b1c1-2e3b-4f42-b412-60d20b1a6a14",
     "prev": "1eb9c367-bcaf-4e95-8e87-66ca8b929e02",
     "regions": {
      "130dd85d-d697-4712-a4ad-4bcb73f8c7b3": {
       "attrs": {
        "height": 1,
        "width": 1,
        "x": 0,
        "y": 0
       },
       "content": {
        "cell": "e37bcd78-51ee-40ac-8d93-08a1cd314042",
        "part": "source"
       },
       "id": "130dd85d-d697-4712-a4ad-4bcb73f8c7b3"
      }
     }
    },
    "9fa66828-4543-49c8-b52b-3e0eb72ec7d6": {
     "id": "9fa66828-4543-49c8-b52b-3e0eb72ec7d6",
     "prev": null,
     "regions": {
      "46b00d61-d0ab-4c22-b9e1-387ad6e33f1d": {
       "attrs": {
        "height": 1,
        "width": 1,
        "x": 0,
        "y": 0
       },
       "content": {
        "cell": "5a89285e-9f84-41f9-8186-ec8e4a823342",
        "part": "source"
       },
       "id": "46b00d61-d0ab-4c22-b9e1-387ad6e33f1d"
      }
     }
    }
   },
   "themes": {}
  }
 },
 "nbformat": 4,
 "nbformat_minor": 2
}
