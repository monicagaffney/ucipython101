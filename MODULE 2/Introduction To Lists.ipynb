{
 "cells": [
  {
   "cell_type": "markdown",
   "metadata": {},
   "source": [
    "# Introduction To Lists\n",
    "Lists are what they sound like - lists of other variables.\n",
    "List can be useful whenever you want to collect other variable in a list. For example,\n",
    "let's say we are reading in a data file of user email addresses and demographic data\n",
    "and we want to collect the email address of users that meet a certain criteria - you\n",
    "could collect the emails in a list.\n",
    "\n",
    "Below you will see some examples of using lists:"
   ]
  },
  {
   "cell_type": "code",
   "execution_count": 1,
   "metadata": {},
   "outputs": [
    {
     "name": "stdout",
     "output_type": "stream",
     "text": [
      "[3, 2, 3]\n",
      "[4.3, 1.2, 'Austin']\n",
      "['Will', 54, 23]\n"
     ]
    }
   ],
   "source": [
    "# This is a list of numbers:\n",
    "list_1 = [3, 2, 3]\n",
    "print(list_1)\n",
    "\n",
    "# This is a list of numbers and strings\n",
    "list_2 = [4.3, 1.2, 'Austin']\n",
    "print(list_2)\n",
    "\n",
    "my_name = \"Will\"\n",
    "list_3 = [my_name, 54, 23]\n",
    "print(list_3)"
   ]
  },
  {
   "cell_type": "markdown",
   "metadata": {},
   "source": [
    "## Indexing lists"
   ]
  },
  {
   "cell_type": "code",
   "execution_count": null,
   "metadata": {},
   "outputs": [],
   "source": [
    "# We can access items in the lists through an index - note that python uses\n",
    "# 0 indexing - which means the first element is at index 0. Note we use square\n",
    "# brackets when indexing a list.\n",
    "\n",
    "print('list_1:', list_1[0])\n",
    "\n",
    "print('list_2:', list_2[2])\n",
    "\n",
    "# We can also update items in the list by using indexing\n",
    "list_1[0] = 'hello'\n",
    "print('updated list_1:', list_1)"
   ]
  },
  {
   "cell_type": "markdown",
   "metadata": {},
   "source": [
    "## Slicing lists\n",
    "We can retrieve multiple items from a list by \"slicing\" it. Let's walk through the examples below."
   ]
  },
  {
   "cell_type": "code",
   "execution_count": null,
   "metadata": {},
   "outputs": [],
   "source": [
    "my_list = ['apple', 'banana', 'orange', 'pear']\n",
    "\n",
    "# We can get a series of the items in a list by specifying the first index and\n",
    "# the last index. But, the last index we specify is not returned. Example:\n",
    "print(my_list[0:3])\n",
    "\n",
    "# When start at index 0, you do not need to write the 0\n",
    "print(my_list[:3])\n",
    "\n",
    "#"
   ]
  },
  {
   "cell_type": "markdown",
   "metadata": {},
   "source": [
    "## Growing and concatenating lists\n",
    "We can add items to list, and combine lists. Let's look at some examples below:"
   ]
  },
  {
   "cell_type": "markdown",
   "metadata": {},
   "source": [
    "## Appending items to lists"
   ]
  },
  {
   "cell_type": "code",
   "execution_count": 3,
   "metadata": {},
   "outputs": [
    {
     "name": "stdout",
     "output_type": "stream",
     "text": [
      "list_of_letters: ['a', 'b', 'c', 'm']\n"
     ]
    }
   ],
   "source": [
    "# Adding items to lists is a simple as using the append method:\n",
    "my_favorite_letter = 'm'\n",
    "list_of_letters = ['a', 'b', 'c']\n",
    "list_of_letters.append(my_favorite_letter)\n",
    "print('list_of_letters:', list_of_letters)"
   ]
  },
  {
   "cell_type": "markdown",
   "metadata": {},
   "source": [
    "## Inserting items into lists"
   ]
  },
  {
   "cell_type": "code",
   "execution_count": 5,
   "metadata": {},
   "outputs": [
    {
     "name": "stdout",
     "output_type": "stream",
     "text": [
      "['a', 'b', 'z', 'h', 'c', 'm']\n"
     ]
    }
   ],
   "source": [
    "# We can insert an item into index position 2 (which is the third item because lists are zero indexed)\n",
    "list_of_letters.insert(2, 'z')\n",
    "print(list_of_letters)"
   ]
  },
  {
   "cell_type": "markdown",
   "metadata": {},
   "source": [
    "## Concatenating and extending lists"
   ]
  },
  {
   "cell_type": "code",
   "execution_count": 6,
   "metadata": {},
   "outputs": [
    {
     "name": "stdout",
     "output_type": "stream",
     "text": [
      "list_3: [1, 2, 3, 4, 5, 6]\n",
      "[1, 2, 3, 4, 5, 6]\n"
     ]
    }
   ],
   "source": [
    "# We combine two lists with the '+' operator\n",
    "list_1 = [1, 2, 3]\n",
    "list_2 = [4, 5, 6]\n",
    "list_3 = list_1 + list_2\n",
    "print('list_3:', list_3)\n",
    "\n",
    "# We can also use the .extend method, which is more efficient,\n",
    "# but modified the first list (instead of creating a new one)\n",
    "list_1.extend(list_2)\n",
    "print(list_1)\n"
   ]
  },
  {
   "cell_type": "markdown",
   "metadata": {},
   "source": [
    "## Checking if an item is in a list using the `in` operator"
   ]
  },
  {
   "cell_type": "code",
   "execution_count": 11,
   "metadata": {},
   "outputs": [
    {
     "name": "stdout",
     "output_type": "stream",
     "text": [
      "True\n"
     ]
    }
   ],
   "source": [
    "result = 'm' in list_of_letters\n",
    "print(result)"
   ]
  },
  {
   "cell_type": "markdown",
   "metadata": {},
   "source": [
    "## List are mutable\n",
    "Be careful about pointing multiple variable names at the same list. Notice\n",
    "how below we change list_2 and also changes list_1. This is because both\n",
    "variable names are pointing to the same list object in memory."
   ]
  },
  {
   "cell_type": "code",
   "execution_count": 17,
   "metadata": {},
   "outputs": [
    {
     "name": "stdout",
     "output_type": "stream",
     "text": [
      "list_1: [-7, 2, 3]\n",
      "list_1: [3, 2, 3]\n"
     ]
    }
   ],
   "source": [
    "# Be careful about pointing multiple variable names at the same list. Notice\n",
    "# how below we change list2 and also changes list1. This is because both\n",
    "# variable names are pointing to the same list object in memory.\n",
    "\n",
    "list_1 = [3, 2, 3]\n",
    "list_2 = list_1\n",
    "list_2[0] = -7\n",
    "print('list_1:', list_1)\n",
    "\n",
    "# If you need to make an independent copy of the list, use the copy() method\n",
    "list_1 = [3, 2, 3]\n",
    "list_2 = list_1.copy()\n",
    "list_2[0] = -7\n",
    "print('list_1:', list_1)\n"
   ]
  },
  {
   "cell_type": "markdown",
   "metadata": {},
   "source": [
    "## Deleting items from list "
   ]
  },
  {
   "cell_type": "markdown",
   "metadata": {},
   "source": [
    "### Using del\n",
    "The del keyword let's you delete an item at a specific index."
   ]
  },
  {
   "cell_type": "code",
   "execution_count": 21,
   "metadata": {},
   "outputs": [
    {
     "name": "stdout",
     "output_type": "stream",
     "text": [
      "['a', 'd']\n"
     ]
    }
   ],
   "source": [
    "my_number = 10\n",
    "list_a = ['a', my_number, 'd']\n",
    "del list_a[1]\n",
    "print(list_a)"
   ]
  },
  {
   "cell_type": "markdown",
   "metadata": {},
   "source": [
    "### Using pop"
   ]
  },
  {
   "cell_type": "code",
   "execution_count": null,
   "metadata": {},
   "outputs": [],
   "source": [
    "list_b = ['a', 'b', 'c', 'd', 'e']\n",
    "result = list_b.pop(3)\n",
    "print(list_b)\n",
    "print(result)"
   ]
  },
  {
   "cell_type": "markdown",
   "metadata": {},
   "source": [
    "### Using remove\n",
    "The remove method deletes the _first_ occurrence of the value in the list."
   ]
  },
  {
   "cell_type": "code",
   "execution_count": null,
   "metadata": {},
   "outputs": [],
   "source": [
    "my_list = ['a', 2, 'd', 4, 2]\n",
    "my_list.remove(2)\n",
    "print(my_list)"
   ]
  },
  {
   "cell_type": "code",
   "execution_count": null,
   "metadata": {},
   "outputs": [],
   "source": []
  }
 ],
 "metadata": {
  "anaconda-cloud": {},
  "hide_input": false,
  "kernelspec": {
   "display_name": "Python 3 (ipykernel)",
   "language": "python",
   "name": "python3"
  },
  "language_info": {
   "codemirror_mode": {
    "name": "ipython",
    "version": 3
   },
   "file_extension": ".py",
   "mimetype": "text/x-python",
   "name": "python",
   "nbconvert_exporter": "python",
   "pygments_lexer": "ipython3",
   "version": "3.9.12"
  },
  "nbpresent": {
   "slides": {
    "1eb9c367-bcaf-4e95-8e87-66ca8b929e02": {
     "id": "1eb9c367-bcaf-4e95-8e87-66ca8b929e02",
     "prev": "9fa66828-4543-49c8-b52b-3e0eb72ec7d6",
     "regions": {
      "c8939296-ff76-4813-98ad-ed53e80bdd2f": {
       "attrs": {
        "height": 1,
        "width": 1,
        "x": 0,
        "y": 0
       },
       "id": "c8939296-ff76-4813-98ad-ed53e80bdd2f"
      }
     }
    },
    "3ef0b1c1-2e3b-4f42-b412-60d20b1a6a14": {
     "id": "3ef0b1c1-2e3b-4f42-b412-60d20b1a6a14",
     "prev": "1eb9c367-bcaf-4e95-8e87-66ca8b929e02",
     "regions": {
      "130dd85d-d697-4712-a4ad-4bcb73f8c7b3": {
       "attrs": {
        "height": 1,
        "width": 1,
        "x": 0,
        "y": 0
       },
       "content": {
        "cell": "e37bcd78-51ee-40ac-8d93-08a1cd314042",
        "part": "source"
       },
       "id": "130dd85d-d697-4712-a4ad-4bcb73f8c7b3"
      }
     }
    },
    "9fa66828-4543-49c8-b52b-3e0eb72ec7d6": {
     "id": "9fa66828-4543-49c8-b52b-3e0eb72ec7d6",
     "prev": null,
     "regions": {
      "46b00d61-d0ab-4c22-b9e1-387ad6e33f1d": {
       "attrs": {
        "height": 1,
        "width": 1,
        "x": 0,
        "y": 0
       },
       "content": {
        "cell": "5a89285e-9f84-41f9-8186-ec8e4a823342",
        "part": "source"
       },
       "id": "46b00d61-d0ab-4c22-b9e1-387ad6e33f1d"
      }
     }
    }
   },
   "themes": {}
  }
 },
 "nbformat": 4,
 "nbformat_minor": 2
}
