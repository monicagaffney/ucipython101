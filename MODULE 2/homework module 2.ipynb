{
 "cells": [
  {
   "cell_type": "code",
   "execution_count": 12,
   "id": "0db79f21",
   "metadata": {},
   "outputs": [
    {
     "name": "stdout",
     "output_type": "stream",
     "text": [
      "['Angela Flair (PROB. WAIT - SALESFORCE ISSUES)']\n",
      "['Brandon Mel', 'Victoria Vaughn', 'Carrie Malcolm', 'Cong Liu', 'Jared Lavinder', 'Wes Farner', 'Shiv Morjaria', 'Brian Cope (recommended by Jared Lavinder)', 'Angela Flair (PROB. WAIT - SALESFORCE ISSUES)', 'Kasey Galiciano', 'Joel Encarnacion', 'Lori Boucher (9/8/2022) Jerica Hudson', 'Nan Li', 'Katie Kim', 'Teresa Ho', 'Andy Mai', 'Bryan Bond', 'Tina Falconer', 'Brian Denny', 'Michelle Yoder', 'Kim Mai (recommended by Shiv M.)', 'Tony Macellaro', ['Darryl Button', 'Bodhi Gaffney']]\n",
      "False\n"
     ]
    }
   ],
   "source": [
    "#modifying list of LID stakeholders\n",
    "list_stake = ['Brandon Mel', 'Victoria Vaughn', 'Carrie Malcolm', \n",
    "'Cong Liu', 'Jared Lavinder', 'Wes Farner', 'Shiv Morjaria', \n",
    "'Brian Cope (recommended by Jared Lavinder)', \n",
    "'Angela Flair (PROB. WAIT - SALESFORCE ISSUES)', 'Kasey Galiciano', \n",
    "'Joel Encarnacion', 'Lori Boucher (9/8/2022) Jerica Hudson', \n",
    "'Nan Li', 'Katie Kim', 'Teresa Ho', \n",
    "'Andy Mai', 'Bryan Bond', \n",
    "'Tina Falconer', 'Brian Denny', \n",
    "'Michelle Yoder','Kim Mai (recommended by Shiv M.)', \n",
    "'Tony Macellaro']\n",
    "print(list_stake[8:9])\n",
    "new_stake = ['Darryl Button','Bodhi Gaffney']\n",
    "list_stake.append(new_stake)\n",
    "print(list_stake)\n",
    "result = 'm' in list_stake\n",
    "print(result)"
   ]
  },
  {
   "cell_type": "code",
   "execution_count": 24,
   "id": "81f79b77",
   "metadata": {},
   "outputs": [
    {
     "name": "stdout",
     "output_type": "stream",
     "text": [
      "{'Andy Mai', 'Nan Li', 'Shiv Morjaria', 'Michelle Yoder', 'Jared Lavinder', 'Angela Flair (PROB. WAIT - SALESFORCE ISSUES)', 'Kim Mai (recommended by Shiv M.)', 'Wes Farner', 'Tina Falconer', 'Katie Kim', 'Cong Liu', 'Kasey Galiciano', 'Brian Denny', 'Bryan Bond', 'Joel Encarnacion', 'Victoria Vaughn', 'Teresa Ho', 'Lori Boucher (9/8/2022) Jerica Hudson', 'Brian Cope (recommended by Jared Lavinder)', 'Brandon Mel', 'Tony Macellaro', 'Carrie Malcolm'} ['Darryl Button', 'Bodhi Gaffney']\n",
      "{'Andy Mai', 'Nan Li', 'Shiv Morjaria', 'Michelle Yoder', 'Jared Lavinder', 'Angela Flair (PROB. WAIT - SALESFORCE ISSUES)', 'Kim Mai (recommended by Shiv M.)', 'Claire', 'Wes Farner', 'Tina Falconer', 'Katie Kim', 'Cong Liu', 'Kasey Galiciano', 'Brian Denny', 'Bryan Bond', 'Joel Encarnacion', 'Victoria Vaughn', 'Teresa Ho', 'Lori Boucher (9/8/2022) Jerica Hudson', 'Brian Cope (recommended by Jared Lavinder)', 'Brandon Mel', 'Tony Macellaro', 'Carrie Malcolm'} ['Darryl Button', 'Bodhi Gaffney']\n",
      "True\n",
      "{'Andy Mai', 'Nan Li', 'Shiv Morjaria', 'Michelle Yoder', 'Jared Lavinder', 'Angela Flair (PROB. WAIT - SALESFORCE ISSUES)', 'Kim Mai (recommended by Shiv M.)', 'Wes Farner', 'Tina Falconer', 'Katie Kim', 'Cong Liu', 'Kasey Galiciano', 'Brian Denny', 'Bryan Bond', 'Joel Encarnacion', 'Victoria Vaughn', 'Teresa Ho', 'Lori Boucher (9/8/2022) Jerica Hudson', 'Brian Cope (recommended by Jared Lavinder)', 'Brandon Mel', 'Tony Macellaro', 'Carrie Malcolm'} ['Darryl Button', 'Bodhi Gaffney']\n"
     ]
    }
   ],
   "source": [
    "#trying out sets now\n",
    "set_stakeholders = {'Brandon Mel', 'Victoria Vaughn', 'Carrie Malcolm', \n",
    "'Cong Liu', 'Jared Lavinder', 'Wes Farner', 'Shiv Morjaria', \n",
    "'Brian Cope (recommended by Jared Lavinder)', \n",
    "'Angela Flair (PROB. WAIT - SALESFORCE ISSUES)', 'Kasey Galiciano', \n",
    "'Joel Encarnacion', 'Lori Boucher (9/8/2022) Jerica Hudson', \n",
    "'Nan Li', 'Katie Kim', 'Teresa Ho', \n",
    "'Andy Mai', 'Bryan Bond', \n",
    "'Tina Falconer', 'Brian Denny', \n",
    "'Michelle Yoder','Kim Mai (recommended by Shiv M.)', \n",
    "'Tony Macellaro'}\n",
    "print (set_stakeholders,new_stake)\n",
    "#add Claire\n",
    "set_stakeholders.add('Claire')\n",
    "print (set_stakeholders,new_stake)\n",
    "#check if Claire is a value\n",
    "result = 'Claire' in set_stakeholders\n",
    "print(result)\n",
    "#removing 'Claire' from set\n",
    "set_stakeholders.remove('Claire')\n",
    "print (set_stakeholders,new_stake)"
   ]
  },
  {
   "cell_type": "markdown",
   "id": "9bae9434",
   "metadata": {},
   "source": [
    "##trying out dictionaries now"
   ]
  },
  {
   "cell_type": "code",
   "execution_count": 27,
   "id": "901d201f",
   "metadata": {},
   "outputs": [
    {
     "name": "stdout",
     "output_type": "stream",
     "text": [
      "{'Bodhi': '10/05/2018', 'Trevor': '11/23/2013'}\n"
     ]
    }
   ],
   "source": [
    "#define the dictionary\n",
    "birthdays = {'Bodhi' : '10/05/2018', 'Trevor' : '11/23/2013'}\n",
    "print(birthdays)"
   ]
  }
 ],
 "metadata": {
  "kernelspec": {
   "display_name": "Python 3 (ipykernel)",
   "language": "python",
   "name": "python3"
  },
  "language_info": {
   "codemirror_mode": {
    "name": "ipython",
    "version": 3
   },
   "file_extension": ".py",
   "mimetype": "text/x-python",
   "name": "python",
   "nbconvert_exporter": "python",
   "pygments_lexer": "ipython3",
   "version": "3.9.12"
  }
 },
 "nbformat": 4,
 "nbformat_minor": 5
}
