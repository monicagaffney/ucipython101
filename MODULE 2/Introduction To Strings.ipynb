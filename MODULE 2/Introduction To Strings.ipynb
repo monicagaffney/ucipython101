{
 "cells": [
  {
   "cell_type": "markdown",
   "metadata": {},
   "source": [
    "# Introduction To Strings\n",
    "Strings are simply characters or text. They can be single letters, words, sentences, or large chuncks of text. Let's see some examples below:"
   ]
  },
  {
   "cell_type": "markdown",
   "metadata": {},
   "source": [
    "## Examples of strings\n",
    "Note that we can use \" or ' when creating strings. We can also use ''' when creating block strings."
   ]
  },
  {
   "cell_type": "code",
   "execution_count": 3,
   "metadata": {},
   "outputs": [
    {
     "name": "stdout",
     "output_type": "stream",
     "text": [
      "Will\n",
      "The \"quick\" brown fox....\n",
      "The is docstring\n",
      "this function does x y z...\n",
      "\n",
      "Emerald Ripple\n",
      "San Pedro\n",
      "Saguaro\n"
     ]
    }
   ],
   "source": [
    "# We can use \"\"\n",
    "my_name = \"Will\"\n",
    "print(my_name)\n",
    "\n",
    "# We can also use ''\n",
    "a_sentence = 'The \"quick\" brown fox....'\n",
    "print(a_sentence)\n",
    "\n",
    "# You can use ''' ''' for block strings. Mostly used for docstrings.\n",
    "docstring = '''The is docstring\n",
    "this function does x y z...\n",
    "'''\n",
    "\n",
    "print(docstring)\n",
    "\n",
    "#testing MYG\n",
    "\n",
    "my_cactii = 'Emerald Ripple'\n",
    "print(my_cactii)\n",
    "my_cactii = 'San Pedro'\n",
    "print(my_cactii)\n",
    "my_cactii = 'Saguaro'\n",
    "print(my_cactii)\n"
   ]
  },
  {
   "cell_type": "markdown",
   "metadata": {},
   "source": [
    "## Using variable names that make sense\n",
    "\n",
    "It is important that you always use variable names that make sense. For example, do not use the variable name `age` if you are going to assign it the value of a name.  If you are reading in data from a file, do not use a variable named `my_file` to store a *line* of that data.  When completing your assignments, please make sure that you make variable names that make sense"
   ]
  },
  {
   "cell_type": "code",
   "execution_count": 5,
   "metadata": {},
   "outputs": [],
   "source": [
    "# good variable names for strings:\n",
    "first_name = 'Cindy'\n",
    "\n",
    "address = '111 1st Street'\n"
   ]
  },
  {
   "cell_type": "markdown",
   "metadata": {},
   "source": [
    "## Using print() to print strings"
   ]
  },
  {
   "cell_type": "code",
   "execution_count": 11,
   "metadata": {},
   "outputs": [
    {
     "name": "stdout",
     "output_type": "stream",
     "text": [
      "San Diego?I live in San Diego\n",
      "Hi Hello How Are You\n",
      "Line 1\n",
      "Line 2\n",
      "Line 1Line 2\n"
     ]
    }
   ],
   "source": [
    "# We can print single strings\n",
    "a_city = 'San Diego'\n",
    "print((a_city), end='?')\n",
    "\n",
    "\n",
    "# We can print multiple strings on the same line\n",
    "print('I live in', a_city)\n",
    "\n",
    "my_string = 'Hello'\n",
    "print('Hi', my_string, 'How', 'Are', 'You')\n",
    "\n",
    "# By default, each print statement end in a new line. This is so that the next print stratement will \n",
    "# begin on that new line. See this example:\n",
    "print('Line 1')\n",
    "print('Line 2')\n",
    "\n",
    "# We can change this. Maybe we want the first line to end in a space, so\n",
    "# that the second line will start right after that space. We just need to\n",
    "# specify the 'end' keyword argument. This may be the first function and \n",
    "# function argument you have ever seen, feel free to ask questions.\n",
    "\n",
    "print('Line 1', end='')\n",
    "print('Line 2')"
   ]
  },
  {
   "cell_type": "markdown",
   "metadata": {},
   "source": [
    "## Joining and splitting strings\n",
    "\n",
    "We can use the join() and split() methods to join and split strings.\n",
    "\n",
    "Join will join a list of words with a join string. For example, `'_'.join(['Hello', 'There'])` will generate the string 'Hello\\_There' because it is joining the words 'Hello' and 'There' by '_'.  Note that 'Hello' and 'There' are listed betweend two square brackets. This is called a list, and we will discuss lists later in this module.\n",
    "\n",
    "We can also use the + operator to combine two strings\n"
   ]
  },
  {
   "cell_type": "code",
   "execution_count": 12,
   "metadata": {},
   "outputs": [
    {
     "name": "stdout",
     "output_type": "stream",
     "text": [
      "apple pie\n",
      "['apple', 'pie']\n",
      "Hello_World\n",
      "['Hello', 'World']\n"
     ]
    }
   ],
   "source": [
    "# Here is an example of joining the words apple and pie by a space:\n",
    "my_string = ' '.join(['apple', 'pie'])\n",
    "print(my_string)\n",
    "\n",
    "# Now we can split that same string where it has spaces:\n",
    "my_string_split = my_string.split(' ')\n",
    "print(my_string_split)\n",
    "\n",
    "# Here is another example of joining words by an '_'\n",
    "new_string = '_'.join(['Hello', 'World'])\n",
    "print(new_string)\n",
    "\n",
    "# Now let's split the same string by the '_'\n",
    "words_split = new_string.split('_')\n",
    "print(words_split)"
   ]
  },
  {
   "cell_type": "code",
   "execution_count": null,
   "metadata": {},
   "outputs": [],
   "source": [
    "# We can also use the + key to combine strings\n",
    "first_name = 'Will'\n",
    "last_name = 'Henry'\n",
    "full_name = first_name + ' ' + last_name\n",
    "print(full_name)"
   ]
  },
  {
   "cell_type": "markdown",
   "metadata": {},
   "source": [
    "## Finding the length of the strings with the len() function\n",
    "The len() function will return the length of a string (it also works on other types of variables; we will see this later)"
   ]
  },
  {
   "cell_type": "code",
   "execution_count": null,
   "metadata": {},
   "outputs": [],
   "source": [
    "length_of_name = len(full_name)\n",
    "print(length_of_name)"
   ]
  },
  {
   "cell_type": "markdown",
   "metadata": {},
   "source": [
    "## Using escape sequences\n",
    "An escape sequence is just a special character comination, starting with '\\' that allows us to print tabs or new lines. The escape sequence for a new line is '\\n'. The escape sequence for a tab is '\\t'. Let's look at the examples below."
   ]
  },
  {
   "cell_type": "code",
   "execution_count": null,
   "metadata": {},
   "outputs": [],
   "source": [
    "# This is an example of using the '\\t' escape-character to print tabs\n",
    "print('This\\tis\\tan\\texample\\tof\\tusing\\ta\\tlot\\tof\\ttabs')\n",
    "\n",
    "# This is an example of using the '\\n' excape-charactrs to print a newline\n",
    "print('\\nThis sentence')\n",
    "\n",
    "# In the below example, we print three new lines\n",
    "print('Above')\n",
    "print('\\n\\n\\n')\n",
    "print('Below')\n",
    "print('hi')\n",
    "\n",
    "# If you actualy want to a print a '\\', use two in a row:\n",
    "print('\\\\')\n",
    "print('\\\\n')"
   ]
  },
  {
   "cell_type": "markdown",
   "metadata": {
    "collapsed": true
   },
   "source": [
    "## Changing the case of strings with lower() and upper() methods\n",
    "We can use lower() to transform strings to lower case. This is often used in text analysis when you would like the upper case and lower case version of words to count as the same word, i.e. 'Baseball' and 'baseball'. Similarly, we can use upper() to transform strings to all upper case."
   ]
  },
  {
   "cell_type": "code",
   "execution_count": null,
   "metadata": {},
   "outputs": [],
   "source": [
    "# Here are two examples of using lower:\n",
    "# Example 1:\n",
    "my_str = 'ORANGE'\n",
    "my_str_lower = my_str.lower()\n",
    "print(my_str_lower)\n",
    "\n",
    "# Example 2\n",
    "print('APPLE'.lower())\n",
    "\n",
    "# Here are two examples of using upper:\n",
    "# Example 1:\n",
    "a_state = 'california'\n",
    "a_state_upper = a_state.upper()\n",
    "print(a_state_upper)\n",
    "\n",
    "# Example 2\n",
    "print('apple'.upper())"
   ]
  },
  {
   "cell_type": "markdown",
   "metadata": {},
   "source": [
    "## Removing uneeded white space using the strip(), lstrip() and rstrip() methods\n",
    "\n",
    "Strip() can be used to remove white space from the beginning and\n",
    "end of strings. lstrip() will remove whitespace from the left\n",
    "of string, while rstrip() will remove whitespace from the right side of a string.\n",
    "We see examples of this below:"
   ]
  },
  {
   "cell_type": "code",
   "execution_count": null,
   "metadata": {},
   "outputs": [],
   "source": [
    "# Below are examples of using strip(), lstrip(), rstrip().\n",
    "# Remember that strip() can be especially useful when reading data in from a\n",
    "# file, line by line.\n",
    "\n",
    "# Please add some examples of your own, and add some code!\n",
    "\n",
    "stripped_string = 'William,Henry,34\\n'.strip()\n",
    "print(stripped_string)\n",
    "\n",
    "lstripped_string = '\\nWilliam,Henry,34  '.lstrip()\n",
    "print(lstripped_string)\n",
    "\n",
    "rstripped_string = '\\nWilliam,Henry,34  '.rstrip()\n",
    "print(rstripped_string)\n",
    "\n",
    "stripped_string = '\\nWilliam   ,Henry  ,  34  '\n",
    "print(stripped_string.strip().split(','))"
   ]
  },
  {
   "cell_type": "markdown",
   "metadata": {},
   "source": [
    "## Replacing portions of strings with the replace() method\n",
    "You can use the replace() method to replace portions of strings:"
   ]
  },
  {
   "cell_type": "code",
   "execution_count": null,
   "metadata": {},
   "outputs": [],
   "source": [
    "# In this example, we replace the commas with '|'\n",
    "'a,b,c'.replace(',', '|')"
   ]
  },
  {
   "cell_type": "markdown",
   "metadata": {},
   "source": [
    "## Splitting by more than one delimiter the \"beginner\" way\n",
    "This is a simple and easy to read method of splitting by more than one delimiter.  However, it is not as compact as the advanced way."
   ]
  },
  {
   "cell_type": "code",
   "execution_count": 18,
   "metadata": {},
   "outputs": [
    {
     "name": "stdout",
     "output_type": "stream",
     "text": [
      "Will|Henry\t34,New York\n",
      "Will,Henry,34,New York\n",
      "['Will', 'Henry', '34', 'New York']\n"
     ]
    }
   ],
   "source": [
    "line_of_data = 'Will|Henry\\t34,New York'\n",
    "print(line_of_data)\n",
    "new_line = line_of_data.replace('|', ',').replace('\\t', ',')\n",
    "print(new_line)\n",
    "splits = line_of_data.replace('|', ',').replace('\\t', ',').split(',')\n",
    "print(splits)"
   ]
  },
  {
   "cell_type": "markdown",
   "metadata": {},
   "source": [
    "## Splitting by more than one delimiter the \"advanced\" way\n",
    "We can use the regular expression library, \"re\", to split a string using regular expressions.  We have to import the re library and you also need to know some regular expressions.  I often skip over this in this beginner course, but I still include it for completeness."
   ]
  },
  {
   "cell_type": "code",
   "execution_count": null,
   "metadata": {},
   "outputs": [],
   "source": [
    "import re\n",
    "\n",
    "line_of_data = 'Will|Henry\\t34,`New York'\n",
    "re.split('\\W+', line_of_data)\n",
    "# the regular expression '\\W+' will match all sequences of characters that\n",
    "# are not \"word characters\". Word characheters are the character:\n",
    "# a-z, A-Z, 0-9, and _"
   ]
  },
  {
   "cell_type": "code",
   "execution_count": null,
   "metadata": {},
   "outputs": [],
   "source": []
  }
 ],
 "metadata": {
  "anaconda-cloud": {},
  "hide_input": false,
  "kernelspec": {
   "display_name": "Python 3 (ipykernel)",
   "language": "python",
   "name": "python3"
  },
  "language_info": {
   "codemirror_mode": {
    "name": "ipython",
    "version": 3
   },
   "file_extension": ".py",
   "mimetype": "text/x-python",
   "name": "python",
   "nbconvert_exporter": "python",
   "pygments_lexer": "ipython3",
   "version": "3.9.12"
  },
  "nbpresent": {
   "slides": {
    "1eb9c367-bcaf-4e95-8e87-66ca8b929e02": {
     "id": "1eb9c367-bcaf-4e95-8e87-66ca8b929e02",
     "prev": "9fa66828-4543-49c8-b52b-3e0eb72ec7d6",
     "regions": {
      "c8939296-ff76-4813-98ad-ed53e80bdd2f": {
       "attrs": {
        "height": 1,
        "width": 1,
        "x": 0,
        "y": 0
       },
       "id": "c8939296-ff76-4813-98ad-ed53e80bdd2f"
      }
     }
    },
    "3ef0b1c1-2e3b-4f42-b412-60d20b1a6a14": {
     "id": "3ef0b1c1-2e3b-4f42-b412-60d20b1a6a14",
     "prev": "1eb9c367-bcaf-4e95-8e87-66ca8b929e02",
     "regions": {
      "130dd85d-d697-4712-a4ad-4bcb73f8c7b3": {
       "attrs": {
        "height": 1,
        "width": 1,
        "x": 0,
        "y": 0
       },
       "content": {
        "cell": "e37bcd78-51ee-40ac-8d93-08a1cd314042",
        "part": "source"
       },
       "id": "130dd85d-d697-4712-a4ad-4bcb73f8c7b3"
      }
     }
    },
    "9fa66828-4543-49c8-b52b-3e0eb72ec7d6": {
     "id": "9fa66828-4543-49c8-b52b-3e0eb72ec7d6",
     "prev": null,
     "regions": {
      "46b00d61-d0ab-4c22-b9e1-387ad6e33f1d": {
       "attrs": {
        "height": 1,
        "width": 1,
        "x": 0,
        "y": 0
       },
       "content": {
        "cell": "5a89285e-9f84-41f9-8186-ec8e4a823342",
        "part": "source"
       },
       "id": "46b00d61-d0ab-4c22-b9e1-387ad6e33f1d"
      }
     }
    }
   },
   "themes": {}
  }
 },
 "nbformat": 4,
 "nbformat_minor": 2
}
