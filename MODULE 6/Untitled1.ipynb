{
 "cells": [
  {
   "cell_type": "code",
   "execution_count": 1,
   "id": "9b91756e",
   "metadata": {},
   "outputs": [
    {
     "name": "stdout",
     "output_type": "stream",
     "text": [
      "['_apple', '_orange', '_banana']\n",
      "['CA', 'NY']\n",
      "[3, 6, 9, 12, 15]\n",
      "['love', 'outdoors', 'passion']\n",
      "['love', 'outdoors', 'passion']\n"
     ]
    }
   ],
   "source": [
    "\n",
    "\n",
    "\n",
    "my_word_list = ['apple', 'orange', 'banana']\n",
    "mapobject = map(lambda x: \"_\" + x, my_word_list)\n",
    "my_new_word_list = list(mapobject)\n",
    "print(my_new_word_list)\n",
    "\n",
    "\n",
    "my_state_list = ['CA', 'OR', 'NY', 'OR']\n",
    "my_new_state_list = list(filter(lambda x: x in ['CA', 'NY'], my_state_list))\n",
    "print(my_new_state_list)\n",
    "\n",
    "\n",
    "my_number_list = [1, 2, 3, 4, 5]\n",
    "my_new_number_list = [x*3 for x in my_number_list]\n",
    "print(my_new_number_list)\n",
    "\n",
    "\n",
    "list_of_words = ['love', 'the', 'outdoors', 'with', 'passion']\n",
    "words_to_remove = ['the', 'with', 'of', 'a']\n",
    "new_list = [x for x in list_of_words if x not in words_to_remove]\n",
    "print(new_list)\n",
    "\n",
    "\n",
    "new_list = list(filter(lambda x: x not in words_to_remove, list_of_words))\n",
    "print(new_list)\n"
   ]
  }
 ],
 "metadata": {
  "kernelspec": {
   "display_name": "Python 3 (ipykernel)",
   "language": "python",
   "name": "python3"
  },
  "language_info": {
   "codemirror_mode": {
    "name": "ipython",
    "version": 3
   },
   "file_extension": ".py",
   "mimetype": "text/x-python",
   "name": "python",
   "nbconvert_exporter": "python",
   "pygments_lexer": "ipython3",
   "version": "3.9.12"
  }
 },
 "nbformat": 4,
 "nbformat_minor": 5
}
