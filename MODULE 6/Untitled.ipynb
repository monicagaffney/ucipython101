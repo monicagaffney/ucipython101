{
 "cells": [
  {
   "cell_type": "code",
   "execution_count": 2,
   "id": "abf1e7a9",
   "metadata": {},
   "outputs": [
    {
     "name": "stdout",
     "output_type": "stream",
     "text": [
      "<function division at 0x0000017734A169D0>\n"
     ]
    }
   ],
   "source": [
    "\n",
    "# problem 1\n",
    "def division(numerator, denominator):\n",
    "    return numerator / denominator\n",
    "\n",
    "print(division)\n",
    "\n",
    "\n",
    "# problem 2\n",
    "def multiply_numbers(my_tuple):\n",
    "    product = 1\n",
    "    for item in my_tuple:\n",
    "        product = product * item\n",
    "    return product\n",
    "\n",
    "\n",
    "# problem 3\n",
    "def filter_list(str_list, string):\n",
    "    filtered_list=[]\n",
    "    for word in str_list:\n",
    "        if word != string:\n",
    "            filtered_list.append(word)\n",
    "    return filtered_list\n",
    "\n",
    "\n",
    "# problem 4\n",
    "def longest_word(str_list):\n",
    "    long_word = ''\n",
    "    for str in str_list:\n",
    "        if len(str) > len(long_word):\n",
    "            long_word = str\n",
    "    return long_word\n",
    "\n",
    "\n",
    "# problem 5\n",
    "def list_to_unique(my_list):\n",
    "    return_list=[]\n",
    "    for item in my_list:\n",
    "        if item not in return_list:\n",
    "            return_list.append(item)\n",
    "    return return_list\n",
    "\n"
   ]
  }
 ],
 "metadata": {
  "kernelspec": {
   "display_name": "Python 3 (ipykernel)",
   "language": "python",
   "name": "python3"
  },
  "language_info": {
   "codemirror_mode": {
    "name": "ipython",
    "version": 3
   },
   "file_extension": ".py",
   "mimetype": "text/x-python",
   "name": "python",
   "nbconvert_exporter": "python",
   "pygments_lexer": "ipython3",
   "version": "3.9.12"
  }
 },
 "nbformat": 4,
 "nbformat_minor": 5
}
