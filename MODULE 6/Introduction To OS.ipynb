{
 "cells": [
  {
   "cell_type": "markdown",
   "metadata": {
    "nbpresent": {
     "id": "52335e99-9810-4211-bb3b-c31769964cb3"
    }
   },
   "source": [
    "# Introduction To The OS Module\n",
    "The os module provides functions that interface with the operating system. Some examples of what you can do with the os module are:\n",
    "\n",
    "   * Find the current working directory\n",
    "   * Easily create file paths\n",
    "   * Check if files and directories exist\n",
    "   * Create directories\n",
    "\n",
    "There is a lot more you can do with the os module. Follow this link to read the full documentation:\n",
    "https://docs.python.org/3/library/os.html"
   ]
  },
  {
   "cell_type": "markdown",
   "metadata": {},
   "source": [
    "## Import the os package\n",
    "The first thing we need to do is import the os package."
   ]
  },
  {
   "cell_type": "code",
   "execution_count": 14,
   "metadata": {},
   "outputs": [],
   "source": [
    "import os"
   ]
  },
  {
   "cell_type": "markdown",
   "metadata": {},
   "source": [
    "## Get the current working directory\n",
    "The working directory is the directory that your python script, program, or notebook is running in. This can be very useful in certain scenarios. (We will see one of those in a section below)."
   ]
  },
  {
   "cell_type": "code",
   "execution_count": 15,
   "metadata": {},
   "outputs": [
    {
     "name": "stdout",
     "output_type": "stream",
     "text": [
      "C:\\Users\\MGaffney\\Documents\\LOCALAPPS\\PYTHON UCI\\module 6\n"
     ]
    }
   ],
   "source": [
    "current_directory = os.getcwd()\n",
    "print(current_directory)"
   ]
  },
  {
   "cell_type": "markdown",
   "metadata": {},
   "source": [
    "## Build system friendly file paths\n",
    "\n",
    "File paths need to be formatted differently on different systems. On OS X, file paths use '/' as a separator. On Windows, file paths use '\\' as a separator. For example, here is the same file path, on OS X and Windows:\n",
    "\n",
    "> OS X: /Home/Documents/data.txt\n",
    "\n",
    "> Windows: \\Home\\Documents\\data.txt\n",
    "\n",
    "We want an easy way to construct file paths correctly no matter which system we are running our code on.  We can do that with `os.path.join`. Let's see some examples below."
   ]
  },
  {
   "cell_type": "code",
   "execution_count": 16,
   "metadata": {},
   "outputs": [
    {
     "name": "stdout",
     "output_type": "stream",
     "text": [
      "/Home\\Documents\\data.txt\n"
     ]
    }
   ],
   "source": [
    "data_file_path = os.path.join('/', 'Home', 'Documents', 'data.txt')\n",
    "print(data_file_path)"
   ]
  },
  {
   "cell_type": "markdown",
   "metadata": {},
   "source": [
    "## Checking if a file path exists\n",
    "\n",
    "We often want to check if a file path exists. For example, we may have a script that looks for a file and processes it if it is there.  We also might check if a directory exists before we try to create a file in that directory.\n",
    "\n",
    "We can use `os.path.exists` to check if a file oath exists, and we can use `os.path.isdir` to check if a filepath is a directory.\n"
   ]
  },
  {
   "cell_type": "code",
   "execution_count": 17,
   "metadata": {},
   "outputs": [
    {
     "name": "stdout",
     "output_type": "stream",
     "text": [
      "False\n",
      "False\n",
      "False\n"
     ]
    }
   ],
   "source": [
    "path_to_data_file = os.path.join('/', 'Users', 'williamhenry', 'Documents', 'test.txt')\n",
    "\n",
    "file_path_exists = os.path.exists(path_to_data_file)\n",
    "print(file_path_exists)\n",
    "\n",
    "path_to_dir = os.path.join('/', 'Users', 'williamhenry', 'Documents')\n",
    "dir_exists = os.path.isdir(path_to_dir)\n",
    "print(dir_exists)\n",
    "\n",
    "\n",
    "path_to_dir = os.path.join('/', 'Users', 'williamhenry', 'Documents', 'Data')\n",
    "dir_exists = os.path.isdir(path_to_dir)\n",
    "print(dir_exists)"
   ]
  },
  {
   "cell_type": "markdown",
   "metadata": {},
   "source": [
    "## Creating a directory\n",
    "\n",
    "In the above example, we looked for a directory that did not exists.  We can use `os.mkdir` to make it."
   ]
  },
  {
   "cell_type": "code",
   "execution_count": 18,
   "metadata": {},
   "outputs": [
    {
     "ename": "FileNotFoundError",
     "evalue": "[WinError 3] The system cannot find the path specified: '/Users\\\\williamhenry\\\\Documents\\\\Data'",
     "output_type": "error",
     "traceback": [
      "\u001b[1;31m---------------------------------------------------------------------------\u001b[0m",
      "\u001b[1;31mFileNotFoundError\u001b[0m                         Traceback (most recent call last)",
      "Input \u001b[1;32mIn [18]\u001b[0m, in \u001b[0;36m<cell line: 3>\u001b[1;34m()\u001b[0m\n\u001b[0;32m      1\u001b[0m path_to_dir \u001b[38;5;241m=\u001b[39m os\u001b[38;5;241m.\u001b[39mpath\u001b[38;5;241m.\u001b[39mjoin(\u001b[38;5;124m'\u001b[39m\u001b[38;5;124m/\u001b[39m\u001b[38;5;124m'\u001b[39m, \u001b[38;5;124m'\u001b[39m\u001b[38;5;124mUsers\u001b[39m\u001b[38;5;124m'\u001b[39m, \u001b[38;5;124m'\u001b[39m\u001b[38;5;124mwilliamhenry\u001b[39m\u001b[38;5;124m'\u001b[39m, \u001b[38;5;124m'\u001b[39m\u001b[38;5;124mDocuments\u001b[39m\u001b[38;5;124m'\u001b[39m, \u001b[38;5;124m'\u001b[39m\u001b[38;5;124mData\u001b[39m\u001b[38;5;124m'\u001b[39m)\n\u001b[0;32m      3\u001b[0m \u001b[38;5;28;01mif\u001b[39;00m \u001b[38;5;129;01mnot\u001b[39;00m(os\u001b[38;5;241m.\u001b[39mpath\u001b[38;5;241m.\u001b[39misdir(path_to_dir)):\n\u001b[1;32m----> 4\u001b[0m     \u001b[43mos\u001b[49m\u001b[38;5;241;43m.\u001b[39;49m\u001b[43mmkdir\u001b[49m\u001b[43m(\u001b[49m\u001b[43mpath_to_dir\u001b[49m\u001b[43m)\u001b[49m\n\u001b[0;32m      6\u001b[0m \u001b[38;5;28mprint\u001b[39m(os\u001b[38;5;241m.\u001b[39mpath\u001b[38;5;241m.\u001b[39misdir(path_to_dir))\n",
      "\u001b[1;31mFileNotFoundError\u001b[0m: [WinError 3] The system cannot find the path specified: '/Users\\\\williamhenry\\\\Documents\\\\Data'"
     ]
    }
   ],
   "source": [
    "path_to_dir = os.path.join('/', 'Users', 'williamhenry', 'Documents', 'Data')\n",
    "\n",
    "if not(os.path.isdir(path_to_dir)):\n",
    "    os.mkdir(path_to_dir)\n",
    "\n",
    "print(os.path.isdir(path_to_dir))"
   ]
  },
  {
   "cell_type": "code",
   "execution_count": null,
   "metadata": {},
   "outputs": [],
   "source": []
  }
 ],
 "metadata": {
  "anaconda-cloud": {},
  "hide_input": false,
  "kernelspec": {
   "display_name": "Python 3 (ipykernel)",
   "language": "python",
   "name": "python3"
  },
  "language_info": {
   "codemirror_mode": {
    "name": "ipython",
    "version": 3
   },
   "file_extension": ".py",
   "mimetype": "text/x-python",
   "name": "python",
   "nbconvert_exporter": "python",
   "pygments_lexer": "ipython3",
   "version": "3.9.12"
  },
  "nbpresent": {
   "slides": {
    "1eb9c367-bcaf-4e95-8e87-66ca8b929e02": {
     "id": "1eb9c367-bcaf-4e95-8e87-66ca8b929e02",
     "prev": "9fa66828-4543-49c8-b52b-3e0eb72ec7d6",
     "regions": {
      "c8939296-ff76-4813-98ad-ed53e80bdd2f": {
       "attrs": {
        "height": 1,
        "width": 1,
        "x": 0,
        "y": 0
       },
       "id": "c8939296-ff76-4813-98ad-ed53e80bdd2f"
      }
     }
    },
    "3ef0b1c1-2e3b-4f42-b412-60d20b1a6a14": {
     "id": "3ef0b1c1-2e3b-4f42-b412-60d20b1a6a14",
     "prev": "1eb9c367-bcaf-4e95-8e87-66ca8b929e02",
     "regions": {
      "130dd85d-d697-4712-a4ad-4bcb73f8c7b3": {
       "attrs": {
        "height": 1,
        "width": 1,
        "x": 0,
        "y": 0
       },
       "content": {
        "cell": "e37bcd78-51ee-40ac-8d93-08a1cd314042",
        "part": "source"
       },
       "id": "130dd85d-d697-4712-a4ad-4bcb73f8c7b3"
      }
     }
    },
    "9fa66828-4543-49c8-b52b-3e0eb72ec7d6": {
     "id": "9fa66828-4543-49c8-b52b-3e0eb72ec7d6",
     "prev": null,
     "regions": {
      "46b00d61-d0ab-4c22-b9e1-387ad6e33f1d": {
       "attrs": {
        "height": 1,
        "width": 1,
        "x": 0,
        "y": 0
       },
       "content": {
        "cell": "5a89285e-9f84-41f9-8186-ec8e4a823342",
        "part": "source"
       },
       "id": "46b00d61-d0ab-4c22-b9e1-387ad6e33f1d"
      }
     }
    }
   },
   "themes": {}
  }
 },
 "nbformat": 4,
 "nbformat_minor": 1
}
