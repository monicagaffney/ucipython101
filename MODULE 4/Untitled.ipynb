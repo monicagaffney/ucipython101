{
 "cells": [
  {
   "cell_type": "code",
   "execution_count": 19,
   "id": "57a3951b",
   "metadata": {},
   "outputs": [
    {
     "data": {
      "text/plain": [
       "24572"
      ]
     },
     "execution_count": 19,
     "metadata": {},
     "output_type": "execute_result"
    }
   ],
   "source": [
    "### how to import a module from the standard library\n",
    "import os\n",
    "os.getpid()"
   ]
  },
  {
   "cell_type": "code",
   "execution_count": 16,
   "id": "db579c08",
   "metadata": {},
   "outputs": [
    {
     "name": "stdout",
     "output_type": "stream",
     "text": [
      "5\n",
      "10\n",
      "7\n",
      "2\n"
     ]
    }
   ],
   "source": [
    "#this is a function manually defined\n",
    "def calculate_shipping_cost(package_weight):\n",
    "    if package_weight < 10:\n",
    "        shipping_cost = 5\n",
    "    elif package_weight < 15:\n",
    "        shipping_cost = 7\n",
    "    else:\n",
    "        shipping_cost = 10\n",
    "    return shipping_cost\n",
    "\n",
    "\n",
    "#the number in parens is the weight of the package\n",
    "ship_cost_1 = calculate_shipping_cost(5)\n",
    "ship_cost_2 = calculate_shipping_cost(21)\n",
    "ship_cost_3 = calculate_shipping_cost(14)\n",
    "print(ship_cost_1)\n",
    "print(ship_cost_2)\n",
    "print(ship_cost_3)\n",
    "\n",
    "\n",
    "my_rounded_num = round(2.5000)\n",
    "print(my_rounded_num)\n"
   ]
  }
 ],
 "metadata": {
  "kernelspec": {
   "display_name": "Python 3 (ipykernel)",
   "language": "python",
   "name": "python3"
  },
  "language_info": {
   "codemirror_mode": {
    "name": "ipython",
    "version": 3
   },
   "file_extension": ".py",
   "mimetype": "text/x-python",
   "name": "python",
   "nbconvert_exporter": "python",
   "pygments_lexer": "ipython3",
   "version": "3.9.12"
  }
 },
 "nbformat": 4,
 "nbformat_minor": 5
}
