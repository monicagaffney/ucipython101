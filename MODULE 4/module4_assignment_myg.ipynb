{
 "cells": [
  {
   "cell_type": "markdown",
   "id": "e128f0e6",
   "metadata": {},
   "source": [
    "#HELLO!  module4_assignment_myg"
   ]
  },
  {
   "cell_type": "markdown",
   "id": "1ec87a0d",
   "metadata": {},
   "source": [
    "# Problem 1\n",
    "Define a function called 'division'.  \n",
    "\n",
    "This function accepts two arguments, which are numbers, and divides the first argument by the second. \n",
    "\n",
    "This is a simple function, but it will help us practice creating functions. "
   ]
  },
  {
   "cell_type": "code",
   "execution_count": 90,
   "id": "bc2928f4",
   "metadata": {},
   "outputs": [],
   "source": [
    "def division(num_1, num_2):\n",
    "    answer = num_1 / num_2\n",
    "    return answer"
   ]
  },
  {
   "cell_type": "code",
   "execution_count": 91,
   "id": "cff033b8",
   "metadata": {
    "scrolled": false
   },
   "outputs": [
    {
     "name": "stdout",
     "output_type": "stream",
     "text": [
      "0.6\n"
     ]
    }
   ],
   "source": [
    "num_list = [3,5]\n",
    "result = division(3,5)\n",
    "print(float(result))"
   ]
  },
  {
   "cell_type": "markdown",
   "id": "562c625a",
   "metadata": {},
   "source": [
    "## Problem 2\n",
    "Define a function called 'multiply_numbers' \n",
    "\n",
    "The function accepts one argument which will be a tuple of numbers. \n",
    "\n",
    "The function will multiply all of the numbers together and return the result.\n"
   ]
  },
  {
   "cell_type": "code",
   "execution_count": 92,
   "id": "deb53675",
   "metadata": {},
   "outputs": [],
   "source": [
    "def multiply_numbers(num1, num2):\n",
    "    newvalue = (num1) * (num2)\n",
    "    return newvalue"
   ]
  },
  {
   "cell_type": "code",
   "execution_count": 93,
   "id": "0bc6a66e",
   "metadata": {
    "scrolled": true
   },
   "outputs": [
    {
     "name": "stdout",
     "output_type": "stream",
     "text": [
      "30\n"
     ]
    }
   ],
   "source": [
    "A=5\n",
    "B=6\n",
    "result = multiply_numbers(num1=A,num2=B) \n",
    "print(result)"
   ]
  },
  {
   "cell_type": "markdown",
   "id": "d513bd93",
   "metadata": {},
   "source": [
    "# Problem 3\n",
    "##Define a function called 'filter_list'\n",
    "This function will take two arguments\n",
    "\n",
    "The first argument is a list of strings\n",
    "\n",
    "the second argument is a string that the function will filter out of the list\n",
    "\n",
    "The function should return a list that contains all of the items in the list input to it, except for any items that were equal \n",
    "to the second argument\n"
   ]
  },
  {
   "cell_type": "code",
   "execution_count": 94,
   "id": "7b6b2358",
   "metadata": {},
   "outputs": [
    {
     "name": "stdout",
     "output_type": "stream",
     "text": [
      "['Tim', 'Monica', 'Will']\n",
      "['Tim', 'Monica', 'Will']\n",
      "['Tim', 'Monica', 'Will']\n"
     ]
    }
   ],
   "source": [
    "def filter_list(string_list, filter_list):\n",
    "    for i in range(filter_list):\n",
    "        print(string_list)\n",
    "    return"
   ]
  },
  {
   "cell_type": "code",
   "execution_count": 99,
   "id": "9ac2a58a",
   "metadata": {},
   "outputs": [
    {
     "name": "stdout",
     "output_type": "stream",
     "text": [
      "['Tim', 'Monica', 'Will']\n",
      "['Tim', 'Monica', 'Will']\n",
      "['Tim', 'Monica', 'Will']\n",
      "None\n"
     ]
    }
   ],
   "source": [
    "names = ['Tim', 'Monica', 'Will']\n",
    "Num = 3\n",
    "result = filter_list(names, Num)\n",
    "print(result)"
   ]
  },
  {
   "cell_type": "markdown",
   "id": "c954308f",
   "metadata": {},
   "source": [
    "# Problem 4\n",
    "Define a function called 'longest_word'.\n",
    "The function takes one argument that is a list of words\n",
    "The function should return the longest word in the list. "
   ]
  },
  {
   "cell_type": "code",
   "execution_count": 95,
   "id": "cb7eb44f",
   "metadata": {},
   "outputs": [],
   "source": [
    "def longest_word(list_o_words):  \n",
    "    word_len = []  \n",
    "    for n in list_o_words:  \n",
    "        word_len.append((len(n), n))  \n",
    "    word_len.sort()  \n",
    "    return word_len[-1][1]"
   ]
  },
  {
   "cell_type": "code",
   "execution_count": 96,
   "id": "f8879edf",
   "metadata": {},
   "outputs": [
    {
     "name": "stdout",
     "output_type": "stream",
     "text": [
      "Massachusetts\n"
     ]
    }
   ],
   "source": [
    "statesilike = ['California', 'New Mexico', 'Connecticut', 'Massachusetts', 'Iowa', 'Arizona']\n",
    "result = longest_word(statesilike)\n",
    "print(result)"
   ]
  },
  {
   "cell_type": "markdown",
   "id": "18ba02de",
   "metadata": {},
   "source": [
    "# Problem 5\n",
    "Define a function called list_to_unique.  This function accepts one argument, which is a list of anything (number, string, etc…). The function should return a list of only the unique items (no duplicates). The list that is returned should have the items in the same order as they were in the input list. "
   ]
  },
  {
   "cell_type": "code",
   "execution_count": 97,
   "id": "8509c246",
   "metadata": {},
   "outputs": [],
   "source": [
    "def list_to_unique(list_of_compadres):\n",
    "  x = []\n",
    "  for a in list_of_compadres:\n",
    "    if a not in x:\n",
    "      x.append(a)\n",
    "  return x"
   ]
  },
  {
   "cell_type": "code",
   "execution_count": 98,
   "id": "e6293999",
   "metadata": {},
   "outputs": [
    {
     "name": "stdout",
     "output_type": "stream",
     "text": [
      "[7, 4, 'Monica', 'Will', 77, 'Consumer Markets', 'Lex Fridman']\n"
     ]
    }
   ],
   "source": [
    "X = [7, 7, 7, 7, 4, \"Monica\", \"Will\", \"Will\", 77, 7, \"Consumer Markets\", \"Lex Fridman\", 7]\n",
    "Result = list_to_unique(X)\n",
    "print(Result)"
   ]
  },
  {
   "cell_type": "code",
   "execution_count": null,
   "id": "3276d9e0",
   "metadata": {},
   "outputs": [],
   "source": []
  },
  {
   "cell_type": "code",
   "execution_count": null,
   "id": "8b58c9cf",
   "metadata": {},
   "outputs": [],
   "source": []
  }
 ],
 "metadata": {
  "kernelspec": {
   "display_name": "Python 3 (ipykernel)",
   "language": "python",
   "name": "python3"
  },
  "language_info": {
   "codemirror_mode": {
    "name": "ipython",
    "version": 3
   },
   "file_extension": ".py",
   "mimetype": "text/x-python",
   "name": "python",
   "nbconvert_exporter": "python",
   "pygments_lexer": "ipython3",
   "version": "3.9.12"
  }
 },
 "nbformat": 4,
 "nbformat_minor": 5
}
