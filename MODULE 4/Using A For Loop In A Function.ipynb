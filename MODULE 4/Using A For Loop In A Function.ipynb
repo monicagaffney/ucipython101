{
 "cells": [
  {
   "cell_type": "markdown",
   "metadata": {},
   "source": [
    "# Using A For Loop In A Function\n",
    "\n",
    "There really is nothing special about using a for loop in a function. That is, you can use any python code inside a function - so there is nothing unique about a for loop.  But, I want to cover this because you will need to use for loops in functions for the homework, and there is usually some confusion on this."
   ]
  },
  {
   "cell_type": "markdown",
   "metadata": {},
   "source": [
    "## Motivating Example:\n",
    "Let's code a function that takes in a list of words and also a number. It outputs a list of words, that only contains words from the input list that are the same length as the number we passed. The point of this function is just to practice what we have learned.\n",
    "<br><br>\n",
    "For example, see the list `myWords` below, and the number, `myNumber`. If we wanted to make a list of words, from the `myWords` list, that only contained words with a length equal to 6, we would end up with `['orange', 'minute', 'second']` because those are the only words that are 6 characters long"
   ]
  },
  {
   "cell_type": "code",
   "execution_count": null,
   "metadata": {},
   "outputs": [],
   "source": [
    "myWords = ['apple', 'orange', 'hamburger', 'minute', 'hour', 'second']\n",
    "myNumber = 6"
   ]
  },
  {
   "cell_type": "markdown",
   "metadata": {},
   "source": [
    "### Now, let's write our function:"
   ]
  },
  {
   "cell_type": "code",
   "execution_count": null,
   "metadata": {},
   "outputs": [],
   "source": [
    "def keepWords(wordList, wordLen):\n",
    "    # first we create an empty list, that we will populate with the words\n",
    "    # we want to return from the function.\n",
    "    wordsToKeep = []  \n",
    "    # now, we loop through each word in wordList\n",
    "    for word in wordList:\n",
    "        # we check if the length of the word is equal to our wordLen argument\n",
    "        if len(word) == wordLen:\n",
    "            # if it is the right length, we append it to our wordsToKeep list\n",
    "            wordsToKeep.append(word)\n",
    "    # finally, after the loop above is complete, we return our list of words\n",
    "    return wordsToKeep\n",
    "    "
   ]
  },
  {
   "cell_type": "markdown",
   "metadata": {},
   "source": [
    "### Now, test the function:"
   ]
  },
  {
   "cell_type": "code",
   "execution_count": null,
   "metadata": {},
   "outputs": [],
   "source": [
    "result = keepWords(myWords, myNumber)\n",
    "print(result)"
   ]
  },
  {
   "cell_type": "markdown",
   "metadata": {},
   "source": [
    "## There is an easier way to do this...\n",
    "\n",
    "Next week, we will learn how we can achieve the same desired result of filtering words based on word length, without having to write a function. Right now though, our focus is to learn how to write basic functions that also use what we have learned in the course so far like for loops and finding the length of strings."
   ]
  }
 ],
 "metadata": {
  "hide_input": false,
  "kernelspec": {
   "display_name": "Python 3 (ipykernel)",
   "language": "python",
   "name": "python3"
  },
  "language_info": {
   "codemirror_mode": {
    "name": "ipython",
    "version": 3
   },
   "file_extension": ".py",
   "mimetype": "text/x-python",
   "name": "python",
   "nbconvert_exporter": "python",
   "pygments_lexer": "ipython3",
   "version": "3.9.12"
  }
 },
 "nbformat": 4,
 "nbformat_minor": 2
}
